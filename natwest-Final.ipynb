{
 "cells": [
  {
   "cell_type": "markdown",
   "id": "a1c1a018",
   "metadata": {},
   "source": [
    "EDA (Exploratory data analysis) for the following log file https://github.com/logpai/loghub/tree/master/HealthApp\n",
    "Identify patterns in the data and generate insights for decision-making. \n",
    "Be creative in identifying patterns and insights e.g. when the person exercises, which days, steps for the day etc. \n",
    "Evaluation will be on the number of patterns identified and how they are presented in graphs."
   ]
  },
  {
   "cell_type": "markdown",
   "id": "5e4d3be8",
   "metadata": {},
   "source": [
    "# Exploratory data analysis for HealthApp"
   ]
  },
  {
   "cell_type": "markdown",
   "id": "4e7c5f04",
   "metadata": {},
   "source": [
    "#### Importing Libraies "
   ]
  },
  {
   "cell_type": "code",
   "execution_count": 2,
   "id": "794785cb",
   "metadata": {},
   "outputs": [],
   "source": [
    "import pandas as pd\n",
    "import numpy as np\n",
    "import re\n",
    "import matplotlib.pyplot as plt\n",
    "import seaborn as sns\n",
    "from wordcloud import WordCloud\n",
    "import nltk\n",
    "from nltk.corpus import stopwords\n",
    "from nltk.tokenize import word_tokenize\n",
    "from collections import Counter"
   ]
  },
  {
   "cell_type": "code",
   "execution_count": 3,
   "id": "6d7f8dc5",
   "metadata": {},
   "outputs": [],
   "source": [
    "df = pd.read_csv('HealthApp_2k.log_structured.csv')"
   ]
  },
  {
   "cell_type": "code",
   "execution_count": 4,
   "id": "f814febb",
   "metadata": {},
   "outputs": [
    {
     "data": {
      "text/html": [
       "<div>\n",
       "<style scoped>\n",
       "    .dataframe tbody tr th:only-of-type {\n",
       "        vertical-align: middle;\n",
       "    }\n",
       "\n",
       "    .dataframe tbody tr th {\n",
       "        vertical-align: top;\n",
       "    }\n",
       "\n",
       "    .dataframe thead th {\n",
       "        text-align: right;\n",
       "    }\n",
       "</style>\n",
       "<table border=\"1\" class=\"dataframe\">\n",
       "  <thead>\n",
       "    <tr style=\"text-align: right;\">\n",
       "      <th></th>\n",
       "      <th>LineId</th>\n",
       "      <th>Time</th>\n",
       "      <th>Component</th>\n",
       "      <th>Pid</th>\n",
       "      <th>Content</th>\n",
       "      <th>EventId</th>\n",
       "      <th>EventTemplate</th>\n",
       "    </tr>\n",
       "  </thead>\n",
       "  <tbody>\n",
       "    <tr>\n",
       "      <th>0</th>\n",
       "      <td>1</td>\n",
       "      <td>20171223-22:15:29:606</td>\n",
       "      <td>Step_LSC</td>\n",
       "      <td>30002312</td>\n",
       "      <td>onStandStepChanged 3579</td>\n",
       "      <td>E42</td>\n",
       "      <td>onStandStepChanged &lt;*&gt;</td>\n",
       "    </tr>\n",
       "    <tr>\n",
       "      <th>1</th>\n",
       "      <td>2</td>\n",
       "      <td>20171223-22:15:29:615</td>\n",
       "      <td>Step_LSC</td>\n",
       "      <td>30002312</td>\n",
       "      <td>onExtend:1514038530000 14 0 4</td>\n",
       "      <td>E39</td>\n",
       "      <td>onExtend:&lt;*&gt; &lt;*&gt; &lt;*&gt; &lt;*&gt;</td>\n",
       "    </tr>\n",
       "    <tr>\n",
       "      <th>2</th>\n",
       "      <td>3</td>\n",
       "      <td>20171223-22:15:29:633</td>\n",
       "      <td>Step_StandReportReceiver</td>\n",
       "      <td>30002312</td>\n",
       "      <td>onReceive action: android.intent.action.SCREEN_ON</td>\n",
       "      <td>E41</td>\n",
       "      <td>onReceive action: android.intent.action.SCREEN_ON</td>\n",
       "    </tr>\n",
       "    <tr>\n",
       "      <th>3</th>\n",
       "      <td>4</td>\n",
       "      <td>20171223-22:15:29:635</td>\n",
       "      <td>Step_LSC</td>\n",
       "      <td>30002312</td>\n",
       "      <td>processHandleBroadcastAction action:android.in...</td>\n",
       "      <td>E43</td>\n",
       "      <td>processHandleBroadcastAction action:android.in...</td>\n",
       "    </tr>\n",
       "    <tr>\n",
       "      <th>4</th>\n",
       "      <td>5</td>\n",
       "      <td>20171223-22:15:29:635</td>\n",
       "      <td>Step_StandStepCounter</td>\n",
       "      <td>30002312</td>\n",
       "      <td>flush sensor data</td>\n",
       "      <td>E12</td>\n",
       "      <td>flush sensor data</td>\n",
       "    </tr>\n",
       "    <tr>\n",
       "      <th>...</th>\n",
       "      <td>...</td>\n",
       "      <td>...</td>\n",
       "      <td>...</td>\n",
       "      <td>...</td>\n",
       "      <td>...</td>\n",
       "      <td>...</td>\n",
       "      <td>...</td>\n",
       "    </tr>\n",
       "    <tr>\n",
       "      <th>1995</th>\n",
       "      <td>1996</td>\n",
       "      <td>20171224-0:58:53:985</td>\n",
       "      <td>Step_LSC</td>\n",
       "      <td>30002312</td>\n",
       "      <td>processHandleBroadcastAction action:android.in...</td>\n",
       "      <td>E44</td>\n",
       "      <td>processHandleBroadcastAction action:android.in...</td>\n",
       "    </tr>\n",
       "    <tr>\n",
       "      <th>1996</th>\n",
       "      <td>1997</td>\n",
       "      <td>20171224-0:59:7:581</td>\n",
       "      <td>Step_LSC</td>\n",
       "      <td>30002312</td>\n",
       "      <td>processHandleBroadcastAction action:android.in...</td>\n",
       "      <td>E44</td>\n",
       "      <td>processHandleBroadcastAction action:android.in...</td>\n",
       "    </tr>\n",
       "    <tr>\n",
       "      <th>1997</th>\n",
       "      <td>1998</td>\n",
       "      <td>20171224-1:0:0:794</td>\n",
       "      <td>Step_LSC</td>\n",
       "      <td>30002312</td>\n",
       "      <td>processHandleBroadcastAction action:android.in...</td>\n",
       "      <td>E44</td>\n",
       "      <td>processHandleBroadcastAction action:android.in...</td>\n",
       "    </tr>\n",
       "    <tr>\n",
       "      <th>1998</th>\n",
       "      <td>1999</td>\n",
       "      <td>20171224-1:1:0:935</td>\n",
       "      <td>Step_LSC</td>\n",
       "      <td>30002312</td>\n",
       "      <td>processHandleBroadcastAction action:android.in...</td>\n",
       "      <td>E44</td>\n",
       "      <td>processHandleBroadcastAction action:android.in...</td>\n",
       "    </tr>\n",
       "    <tr>\n",
       "      <th>1999</th>\n",
       "      <td>2000</td>\n",
       "      <td>20171224-1:2:35:789</td>\n",
       "      <td>Step_LSC</td>\n",
       "      <td>30002312</td>\n",
       "      <td>processHandleBroadcastAction action:android.in...</td>\n",
       "      <td>E44</td>\n",
       "      <td>processHandleBroadcastAction action:android.in...</td>\n",
       "    </tr>\n",
       "  </tbody>\n",
       "</table>\n",
       "<p>2000 rows × 7 columns</p>\n",
       "</div>"
      ],
      "text/plain": [
       "      LineId                   Time                 Component       Pid  \\\n",
       "0          1  20171223-22:15:29:606                  Step_LSC  30002312   \n",
       "1          2  20171223-22:15:29:615                  Step_LSC  30002312   \n",
       "2          3  20171223-22:15:29:633  Step_StandReportReceiver  30002312   \n",
       "3          4  20171223-22:15:29:635                  Step_LSC  30002312   \n",
       "4          5  20171223-22:15:29:635     Step_StandStepCounter  30002312   \n",
       "...      ...                    ...                       ...       ...   \n",
       "1995    1996   20171224-0:58:53:985                  Step_LSC  30002312   \n",
       "1996    1997    20171224-0:59:7:581                  Step_LSC  30002312   \n",
       "1997    1998     20171224-1:0:0:794                  Step_LSC  30002312   \n",
       "1998    1999     20171224-1:1:0:935                  Step_LSC  30002312   \n",
       "1999    2000    20171224-1:2:35:789                  Step_LSC  30002312   \n",
       "\n",
       "                                                Content EventId  \\\n",
       "0                               onStandStepChanged 3579     E42   \n",
       "1                         onExtend:1514038530000 14 0 4     E39   \n",
       "2     onReceive action: android.intent.action.SCREEN_ON     E41   \n",
       "3     processHandleBroadcastAction action:android.in...     E43   \n",
       "4                                     flush sensor data     E12   \n",
       "...                                                 ...     ...   \n",
       "1995  processHandleBroadcastAction action:android.in...     E44   \n",
       "1996  processHandleBroadcastAction action:android.in...     E44   \n",
       "1997  processHandleBroadcastAction action:android.in...     E44   \n",
       "1998  processHandleBroadcastAction action:android.in...     E44   \n",
       "1999  processHandleBroadcastAction action:android.in...     E44   \n",
       "\n",
       "                                          EventTemplate  \n",
       "0                                onStandStepChanged <*>  \n",
       "1                              onExtend:<*> <*> <*> <*>  \n",
       "2     onReceive action: android.intent.action.SCREEN_ON  \n",
       "3     processHandleBroadcastAction action:android.in...  \n",
       "4                                     flush sensor data  \n",
       "...                                                 ...  \n",
       "1995  processHandleBroadcastAction action:android.in...  \n",
       "1996  processHandleBroadcastAction action:android.in...  \n",
       "1997  processHandleBroadcastAction action:android.in...  \n",
       "1998  processHandleBroadcastAction action:android.in...  \n",
       "1999  processHandleBroadcastAction action:android.in...  \n",
       "\n",
       "[2000 rows x 7 columns]"
      ]
     },
     "execution_count": 4,
     "metadata": {},
     "output_type": "execute_result"
    }
   ],
   "source": [
    "df"
   ]
  },
  {
   "cell_type": "markdown",
   "id": "063f3b46",
   "metadata": {},
   "source": [
    "<h3>log_structure data description </h3>\n",
    "<p>Provided a log file with various entries. Each entry appears to contain several fields of information, including LineId, Time, Component, Pid, Content, EventId, and EventTemplate. These fields seem to represent different aspects of the log entry. \n",
    "</p>\n",
    "<li>LineId: A unique identifier for each log entry, likely used for reference.</li>\n",
    "<li>Time: The timestamp when the log entry was generated. It includes date and time information down to milliseconds.</li>\n",
    "<li>Component: The component or module responsible for generating the log entry. For example, \"Step_LSC,\" \"Step_StandReportReceiver,\" and \"Step_SPUtils.\"</li>\n",
    "<li>Pid: Process ID, which identifies the specific process that generated the log entry.</li>\n",
    "<li>Content: A description or message associated with the log entry. It appears to contain information about events, actions, or data.</li>\n",
    "<li>EventId: An identifier for the type of event or action described in the log entry. It may help categorize the log entries.</li>\n",
    "<li>EventTemplate: It seems to be a template or pattern associated with the event. It may provide additional context or information about the log entry.</li>"
   ]
  },
  {
   "cell_type": "code",
   "execution_count": 5,
   "id": "cfbddc9f",
   "metadata": {},
   "outputs": [],
   "source": [
    "md = pd.read_csv('HealthApp_2k.log_templates.csv')"
   ]
  },
  {
   "cell_type": "code",
   "execution_count": 6,
   "id": "7bf83b2e",
   "metadata": {},
   "outputs": [
    {
     "data": {
      "text/html": [
       "<div>\n",
       "<style scoped>\n",
       "    .dataframe tbody tr th:only-of-type {\n",
       "        vertical-align: middle;\n",
       "    }\n",
       "\n",
       "    .dataframe tbody tr th {\n",
       "        vertical-align: top;\n",
       "    }\n",
       "\n",
       "    .dataframe thead th {\n",
       "        text-align: right;\n",
       "    }\n",
       "</style>\n",
       "<table border=\"1\" class=\"dataframe\">\n",
       "  <thead>\n",
       "    <tr style=\"text-align: right;\">\n",
       "      <th></th>\n",
       "      <th>EventId</th>\n",
       "      <th>EventTemplate</th>\n",
       "    </tr>\n",
       "  </thead>\n",
       "  <tbody>\n",
       "    <tr>\n",
       "      <th>0</th>\n",
       "      <td>E1</td>\n",
       "      <td>Alarm uploadStaticsToDB totalSteps=&lt;*&gt;:&lt;*&gt;:&lt;*&gt;...</td>\n",
       "    </tr>\n",
       "    <tr>\n",
       "      <th>1</th>\n",
       "      <td>E2</td>\n",
       "      <td>bulkSaveDetailHiHealthData() size = &lt;*&gt;,totalT...</td>\n",
       "    </tr>\n",
       "    <tr>\n",
       "      <th>2</th>\n",
       "      <td>E3</td>\n",
       "      <td>calculateAltitudeWithCache totalAltitude=&lt;*&gt;</td>\n",
       "    </tr>\n",
       "    <tr>\n",
       "      <th>3</th>\n",
       "      <td>E4</td>\n",
       "      <td>calculateCaloriesWithCache totalCalories=&lt;*&gt;</td>\n",
       "    </tr>\n",
       "    <tr>\n",
       "      <th>4</th>\n",
       "      <td>E5</td>\n",
       "      <td>checkCurrentDay a new day comes , reset basicS...</td>\n",
       "    </tr>\n",
       "    <tr>\n",
       "      <th>...</th>\n",
       "      <td>...</td>\n",
       "      <td>...</td>\n",
       "    </tr>\n",
       "    <tr>\n",
       "      <th>70</th>\n",
       "      <td>E71</td>\n",
       "      <td>tryToReloadTodayBasicSteps&lt;*&gt;|&lt;*&gt;|&lt;*&gt;|&lt;*&gt;</td>\n",
       "    </tr>\n",
       "    <tr>\n",
       "      <th>71</th>\n",
       "      <td>E72</td>\n",
       "      <td>upLoadOneMinuteDataToEngine time=&lt;*&gt;,&lt;*&gt;,&lt;*&gt;,&lt;...</td>\n",
       "    </tr>\n",
       "    <tr>\n",
       "      <th>72</th>\n",
       "      <td>E73</td>\n",
       "      <td>uploadStaticsToDB failed message=true</td>\n",
       "    </tr>\n",
       "    <tr>\n",
       "      <th>73</th>\n",
       "      <td>E74</td>\n",
       "      <td>uploadStaticsToDB() onResult  type = &lt;*&gt; obj=true</td>\n",
       "    </tr>\n",
       "    <tr>\n",
       "      <th>74</th>\n",
       "      <td>E75</td>\n",
       "      <td>writeDataToDB size &lt;*&gt;</td>\n",
       "    </tr>\n",
       "  </tbody>\n",
       "</table>\n",
       "<p>75 rows × 2 columns</p>\n",
       "</div>"
      ],
      "text/plain": [
       "   EventId                                      EventTemplate\n",
       "0       E1  Alarm uploadStaticsToDB totalSteps=<*>:<*>:<*>...\n",
       "1       E2  bulkSaveDetailHiHealthData() size = <*>,totalT...\n",
       "2       E3       calculateAltitudeWithCache totalAltitude=<*>\n",
       "3       E4       calculateCaloriesWithCache totalCalories=<*>\n",
       "4       E5  checkCurrentDay a new day comes , reset basicS...\n",
       "..     ...                                                ...\n",
       "70     E71          tryToReloadTodayBasicSteps<*>|<*>|<*>|<*>\n",
       "71     E72  upLoadOneMinuteDataToEngine time=<*>,<*>,<*>,<...\n",
       "72     E73              uploadStaticsToDB failed message=true\n",
       "73     E74  uploadStaticsToDB() onResult  type = <*> obj=true\n",
       "74     E75                             writeDataToDB size <*>\n",
       "\n",
       "[75 rows x 2 columns]"
      ]
     },
     "execution_count": 6,
     "metadata": {},
     "output_type": "execute_result"
    }
   ],
   "source": [
    "md"
   ]
  },
  {
   "cell_type": "markdown",
   "id": "f16bfe3c",
   "metadata": {},
   "source": [
    "<h2>Data pre-processing</h2>"
   ]
  },
  {
   "cell_type": "markdown",
   "id": "c08fb304",
   "metadata": {},
   "source": [
    "#### Formatting DATE and TIME"
   ]
  },
  {
   "cell_type": "code",
   "execution_count": 7,
   "id": "a901dc52",
   "metadata": {},
   "outputs": [],
   "source": [
    "df['Time'] = pd.to_datetime(df['Time'], format='%Y%m%d-%H:%M:%S:%f')\n",
    "\n",
    "# Extract date and time components\n",
    "df['Date'] = df['Time'].dt.date\n",
    "df['Hour'] = df['Time'].dt.hour\n",
    "df['Minute'] = df['Time'].dt.minute\n",
    "df['Second'] = df['Time'].dt.second"
   ]
  },
  {
   "cell_type": "code",
   "execution_count": 8,
   "id": "8429c9a9",
   "metadata": {},
   "outputs": [
    {
     "data": {
      "text/html": [
       "<div>\n",
       "<style scoped>\n",
       "    .dataframe tbody tr th:only-of-type {\n",
       "        vertical-align: middle;\n",
       "    }\n",
       "\n",
       "    .dataframe tbody tr th {\n",
       "        vertical-align: top;\n",
       "    }\n",
       "\n",
       "    .dataframe thead th {\n",
       "        text-align: right;\n",
       "    }\n",
       "</style>\n",
       "<table border=\"1\" class=\"dataframe\">\n",
       "  <thead>\n",
       "    <tr style=\"text-align: right;\">\n",
       "      <th></th>\n",
       "      <th>LineId</th>\n",
       "      <th>Time</th>\n",
       "      <th>Component</th>\n",
       "      <th>Pid</th>\n",
       "      <th>Content</th>\n",
       "      <th>EventId</th>\n",
       "      <th>EventTemplate</th>\n",
       "      <th>Date</th>\n",
       "      <th>Hour</th>\n",
       "      <th>Minute</th>\n",
       "      <th>Second</th>\n",
       "    </tr>\n",
       "  </thead>\n",
       "  <tbody>\n",
       "    <tr>\n",
       "      <th>0</th>\n",
       "      <td>1</td>\n",
       "      <td>2017-12-23 22:15:29.606</td>\n",
       "      <td>Step_LSC</td>\n",
       "      <td>30002312</td>\n",
       "      <td>onStandStepChanged 3579</td>\n",
       "      <td>E42</td>\n",
       "      <td>onStandStepChanged &lt;*&gt;</td>\n",
       "      <td>2017-12-23</td>\n",
       "      <td>22</td>\n",
       "      <td>15</td>\n",
       "      <td>29</td>\n",
       "    </tr>\n",
       "    <tr>\n",
       "      <th>1</th>\n",
       "      <td>2</td>\n",
       "      <td>2017-12-23 22:15:29.615</td>\n",
       "      <td>Step_LSC</td>\n",
       "      <td>30002312</td>\n",
       "      <td>onExtend:1514038530000 14 0 4</td>\n",
       "      <td>E39</td>\n",
       "      <td>onExtend:&lt;*&gt; &lt;*&gt; &lt;*&gt; &lt;*&gt;</td>\n",
       "      <td>2017-12-23</td>\n",
       "      <td>22</td>\n",
       "      <td>15</td>\n",
       "      <td>29</td>\n",
       "    </tr>\n",
       "    <tr>\n",
       "      <th>2</th>\n",
       "      <td>3</td>\n",
       "      <td>2017-12-23 22:15:29.633</td>\n",
       "      <td>Step_StandReportReceiver</td>\n",
       "      <td>30002312</td>\n",
       "      <td>onReceive action: android.intent.action.SCREEN_ON</td>\n",
       "      <td>E41</td>\n",
       "      <td>onReceive action: android.intent.action.SCREEN_ON</td>\n",
       "      <td>2017-12-23</td>\n",
       "      <td>22</td>\n",
       "      <td>15</td>\n",
       "      <td>29</td>\n",
       "    </tr>\n",
       "    <tr>\n",
       "      <th>3</th>\n",
       "      <td>4</td>\n",
       "      <td>2017-12-23 22:15:29.635</td>\n",
       "      <td>Step_LSC</td>\n",
       "      <td>30002312</td>\n",
       "      <td>processHandleBroadcastAction action:android.in...</td>\n",
       "      <td>E43</td>\n",
       "      <td>processHandleBroadcastAction action:android.in...</td>\n",
       "      <td>2017-12-23</td>\n",
       "      <td>22</td>\n",
       "      <td>15</td>\n",
       "      <td>29</td>\n",
       "    </tr>\n",
       "    <tr>\n",
       "      <th>4</th>\n",
       "      <td>5</td>\n",
       "      <td>2017-12-23 22:15:29.635</td>\n",
       "      <td>Step_StandStepCounter</td>\n",
       "      <td>30002312</td>\n",
       "      <td>flush sensor data</td>\n",
       "      <td>E12</td>\n",
       "      <td>flush sensor data</td>\n",
       "      <td>2017-12-23</td>\n",
       "      <td>22</td>\n",
       "      <td>15</td>\n",
       "      <td>29</td>\n",
       "    </tr>\n",
       "    <tr>\n",
       "      <th>...</th>\n",
       "      <td>...</td>\n",
       "      <td>...</td>\n",
       "      <td>...</td>\n",
       "      <td>...</td>\n",
       "      <td>...</td>\n",
       "      <td>...</td>\n",
       "      <td>...</td>\n",
       "      <td>...</td>\n",
       "      <td>...</td>\n",
       "      <td>...</td>\n",
       "      <td>...</td>\n",
       "    </tr>\n",
       "    <tr>\n",
       "      <th>1995</th>\n",
       "      <td>1996</td>\n",
       "      <td>2017-12-24 00:58:53.985</td>\n",
       "      <td>Step_LSC</td>\n",
       "      <td>30002312</td>\n",
       "      <td>processHandleBroadcastAction action:android.in...</td>\n",
       "      <td>E44</td>\n",
       "      <td>processHandleBroadcastAction action:android.in...</td>\n",
       "      <td>2017-12-24</td>\n",
       "      <td>0</td>\n",
       "      <td>58</td>\n",
       "      <td>53</td>\n",
       "    </tr>\n",
       "    <tr>\n",
       "      <th>1996</th>\n",
       "      <td>1997</td>\n",
       "      <td>2017-12-24 00:59:07.581</td>\n",
       "      <td>Step_LSC</td>\n",
       "      <td>30002312</td>\n",
       "      <td>processHandleBroadcastAction action:android.in...</td>\n",
       "      <td>E44</td>\n",
       "      <td>processHandleBroadcastAction action:android.in...</td>\n",
       "      <td>2017-12-24</td>\n",
       "      <td>0</td>\n",
       "      <td>59</td>\n",
       "      <td>7</td>\n",
       "    </tr>\n",
       "    <tr>\n",
       "      <th>1997</th>\n",
       "      <td>1998</td>\n",
       "      <td>2017-12-24 01:00:00.794</td>\n",
       "      <td>Step_LSC</td>\n",
       "      <td>30002312</td>\n",
       "      <td>processHandleBroadcastAction action:android.in...</td>\n",
       "      <td>E44</td>\n",
       "      <td>processHandleBroadcastAction action:android.in...</td>\n",
       "      <td>2017-12-24</td>\n",
       "      <td>1</td>\n",
       "      <td>0</td>\n",
       "      <td>0</td>\n",
       "    </tr>\n",
       "    <tr>\n",
       "      <th>1998</th>\n",
       "      <td>1999</td>\n",
       "      <td>2017-12-24 01:01:00.935</td>\n",
       "      <td>Step_LSC</td>\n",
       "      <td>30002312</td>\n",
       "      <td>processHandleBroadcastAction action:android.in...</td>\n",
       "      <td>E44</td>\n",
       "      <td>processHandleBroadcastAction action:android.in...</td>\n",
       "      <td>2017-12-24</td>\n",
       "      <td>1</td>\n",
       "      <td>1</td>\n",
       "      <td>0</td>\n",
       "    </tr>\n",
       "    <tr>\n",
       "      <th>1999</th>\n",
       "      <td>2000</td>\n",
       "      <td>2017-12-24 01:02:35.789</td>\n",
       "      <td>Step_LSC</td>\n",
       "      <td>30002312</td>\n",
       "      <td>processHandleBroadcastAction action:android.in...</td>\n",
       "      <td>E44</td>\n",
       "      <td>processHandleBroadcastAction action:android.in...</td>\n",
       "      <td>2017-12-24</td>\n",
       "      <td>1</td>\n",
       "      <td>2</td>\n",
       "      <td>35</td>\n",
       "    </tr>\n",
       "  </tbody>\n",
       "</table>\n",
       "<p>2000 rows × 11 columns</p>\n",
       "</div>"
      ],
      "text/plain": [
       "      LineId                    Time                 Component       Pid  \\\n",
       "0          1 2017-12-23 22:15:29.606                  Step_LSC  30002312   \n",
       "1          2 2017-12-23 22:15:29.615                  Step_LSC  30002312   \n",
       "2          3 2017-12-23 22:15:29.633  Step_StandReportReceiver  30002312   \n",
       "3          4 2017-12-23 22:15:29.635                  Step_LSC  30002312   \n",
       "4          5 2017-12-23 22:15:29.635     Step_StandStepCounter  30002312   \n",
       "...      ...                     ...                       ...       ...   \n",
       "1995    1996 2017-12-24 00:58:53.985                  Step_LSC  30002312   \n",
       "1996    1997 2017-12-24 00:59:07.581                  Step_LSC  30002312   \n",
       "1997    1998 2017-12-24 01:00:00.794                  Step_LSC  30002312   \n",
       "1998    1999 2017-12-24 01:01:00.935                  Step_LSC  30002312   \n",
       "1999    2000 2017-12-24 01:02:35.789                  Step_LSC  30002312   \n",
       "\n",
       "                                                Content EventId  \\\n",
       "0                               onStandStepChanged 3579     E42   \n",
       "1                         onExtend:1514038530000 14 0 4     E39   \n",
       "2     onReceive action: android.intent.action.SCREEN_ON     E41   \n",
       "3     processHandleBroadcastAction action:android.in...     E43   \n",
       "4                                     flush sensor data     E12   \n",
       "...                                                 ...     ...   \n",
       "1995  processHandleBroadcastAction action:android.in...     E44   \n",
       "1996  processHandleBroadcastAction action:android.in...     E44   \n",
       "1997  processHandleBroadcastAction action:android.in...     E44   \n",
       "1998  processHandleBroadcastAction action:android.in...     E44   \n",
       "1999  processHandleBroadcastAction action:android.in...     E44   \n",
       "\n",
       "                                          EventTemplate        Date  Hour  \\\n",
       "0                                onStandStepChanged <*>  2017-12-23    22   \n",
       "1                              onExtend:<*> <*> <*> <*>  2017-12-23    22   \n",
       "2     onReceive action: android.intent.action.SCREEN_ON  2017-12-23    22   \n",
       "3     processHandleBroadcastAction action:android.in...  2017-12-23    22   \n",
       "4                                     flush sensor data  2017-12-23    22   \n",
       "...                                                 ...         ...   ...   \n",
       "1995  processHandleBroadcastAction action:android.in...  2017-12-24     0   \n",
       "1996  processHandleBroadcastAction action:android.in...  2017-12-24     0   \n",
       "1997  processHandleBroadcastAction action:android.in...  2017-12-24     1   \n",
       "1998  processHandleBroadcastAction action:android.in...  2017-12-24     1   \n",
       "1999  processHandleBroadcastAction action:android.in...  2017-12-24     1   \n",
       "\n",
       "      Minute  Second  \n",
       "0         15      29  \n",
       "1         15      29  \n",
       "2         15      29  \n",
       "3         15      29  \n",
       "4         15      29  \n",
       "...      ...     ...  \n",
       "1995      58      53  \n",
       "1996      59       7  \n",
       "1997       0       0  \n",
       "1998       1       0  \n",
       "1999       2      35  \n",
       "\n",
       "[2000 rows x 11 columns]"
      ]
     },
     "execution_count": 8,
     "metadata": {},
     "output_type": "execute_result"
    }
   ],
   "source": [
    "df"
   ]
  },
  {
   "cell_type": "code",
   "execution_count": 9,
   "id": "04b15e17",
   "metadata": {},
   "outputs": [],
   "source": [
    "df = df.sort_values(by='Time')"
   ]
  },
  {
   "cell_type": "code",
   "execution_count": 10,
   "id": "95a043e3",
   "metadata": {},
   "outputs": [
    {
     "data": {
      "text/html": [
       "<div>\n",
       "<style scoped>\n",
       "    .dataframe tbody tr th:only-of-type {\n",
       "        vertical-align: middle;\n",
       "    }\n",
       "\n",
       "    .dataframe tbody tr th {\n",
       "        vertical-align: top;\n",
       "    }\n",
       "\n",
       "    .dataframe thead th {\n",
       "        text-align: right;\n",
       "    }\n",
       "</style>\n",
       "<table border=\"1\" class=\"dataframe\">\n",
       "  <thead>\n",
       "    <tr style=\"text-align: right;\">\n",
       "      <th></th>\n",
       "      <th>LineId</th>\n",
       "      <th>Time</th>\n",
       "      <th>Component</th>\n",
       "      <th>Pid</th>\n",
       "      <th>Content</th>\n",
       "      <th>EventId</th>\n",
       "      <th>EventTemplate</th>\n",
       "      <th>Date</th>\n",
       "      <th>Hour</th>\n",
       "      <th>Minute</th>\n",
       "      <th>Second</th>\n",
       "    </tr>\n",
       "  </thead>\n",
       "  <tbody>\n",
       "    <tr>\n",
       "      <th>0</th>\n",
       "      <td>1</td>\n",
       "      <td>2017-12-23 22:15:29.606</td>\n",
       "      <td>Step_LSC</td>\n",
       "      <td>30002312</td>\n",
       "      <td>onStandStepChanged 3579</td>\n",
       "      <td>E42</td>\n",
       "      <td>onStandStepChanged &lt;*&gt;</td>\n",
       "      <td>2017-12-23</td>\n",
       "      <td>22</td>\n",
       "      <td>15</td>\n",
       "      <td>29</td>\n",
       "    </tr>\n",
       "    <tr>\n",
       "      <th>1</th>\n",
       "      <td>2</td>\n",
       "      <td>2017-12-23 22:15:29.615</td>\n",
       "      <td>Step_LSC</td>\n",
       "      <td>30002312</td>\n",
       "      <td>onExtend:1514038530000 14 0 4</td>\n",
       "      <td>E39</td>\n",
       "      <td>onExtend:&lt;*&gt; &lt;*&gt; &lt;*&gt; &lt;*&gt;</td>\n",
       "      <td>2017-12-23</td>\n",
       "      <td>22</td>\n",
       "      <td>15</td>\n",
       "      <td>29</td>\n",
       "    </tr>\n",
       "    <tr>\n",
       "      <th>2</th>\n",
       "      <td>3</td>\n",
       "      <td>2017-12-23 22:15:29.633</td>\n",
       "      <td>Step_StandReportReceiver</td>\n",
       "      <td>30002312</td>\n",
       "      <td>onReceive action: android.intent.action.SCREEN_ON</td>\n",
       "      <td>E41</td>\n",
       "      <td>onReceive action: android.intent.action.SCREEN_ON</td>\n",
       "      <td>2017-12-23</td>\n",
       "      <td>22</td>\n",
       "      <td>15</td>\n",
       "      <td>29</td>\n",
       "    </tr>\n",
       "    <tr>\n",
       "      <th>3</th>\n",
       "      <td>4</td>\n",
       "      <td>2017-12-23 22:15:29.635</td>\n",
       "      <td>Step_LSC</td>\n",
       "      <td>30002312</td>\n",
       "      <td>processHandleBroadcastAction action:android.in...</td>\n",
       "      <td>E43</td>\n",
       "      <td>processHandleBroadcastAction action:android.in...</td>\n",
       "      <td>2017-12-23</td>\n",
       "      <td>22</td>\n",
       "      <td>15</td>\n",
       "      <td>29</td>\n",
       "    </tr>\n",
       "    <tr>\n",
       "      <th>4</th>\n",
       "      <td>5</td>\n",
       "      <td>2017-12-23 22:15:29.635</td>\n",
       "      <td>Step_StandStepCounter</td>\n",
       "      <td>30002312</td>\n",
       "      <td>flush sensor data</td>\n",
       "      <td>E12</td>\n",
       "      <td>flush sensor data</td>\n",
       "      <td>2017-12-23</td>\n",
       "      <td>22</td>\n",
       "      <td>15</td>\n",
       "      <td>29</td>\n",
       "    </tr>\n",
       "    <tr>\n",
       "      <th>...</th>\n",
       "      <td>...</td>\n",
       "      <td>...</td>\n",
       "      <td>...</td>\n",
       "      <td>...</td>\n",
       "      <td>...</td>\n",
       "      <td>...</td>\n",
       "      <td>...</td>\n",
       "      <td>...</td>\n",
       "      <td>...</td>\n",
       "      <td>...</td>\n",
       "      <td>...</td>\n",
       "    </tr>\n",
       "    <tr>\n",
       "      <th>1995</th>\n",
       "      <td>1996</td>\n",
       "      <td>2017-12-24 00:58:53.985</td>\n",
       "      <td>Step_LSC</td>\n",
       "      <td>30002312</td>\n",
       "      <td>processHandleBroadcastAction action:android.in...</td>\n",
       "      <td>E44</td>\n",
       "      <td>processHandleBroadcastAction action:android.in...</td>\n",
       "      <td>2017-12-24</td>\n",
       "      <td>0</td>\n",
       "      <td>58</td>\n",
       "      <td>53</td>\n",
       "    </tr>\n",
       "    <tr>\n",
       "      <th>1996</th>\n",
       "      <td>1997</td>\n",
       "      <td>2017-12-24 00:59:07.581</td>\n",
       "      <td>Step_LSC</td>\n",
       "      <td>30002312</td>\n",
       "      <td>processHandleBroadcastAction action:android.in...</td>\n",
       "      <td>E44</td>\n",
       "      <td>processHandleBroadcastAction action:android.in...</td>\n",
       "      <td>2017-12-24</td>\n",
       "      <td>0</td>\n",
       "      <td>59</td>\n",
       "      <td>7</td>\n",
       "    </tr>\n",
       "    <tr>\n",
       "      <th>1997</th>\n",
       "      <td>1998</td>\n",
       "      <td>2017-12-24 01:00:00.794</td>\n",
       "      <td>Step_LSC</td>\n",
       "      <td>30002312</td>\n",
       "      <td>processHandleBroadcastAction action:android.in...</td>\n",
       "      <td>E44</td>\n",
       "      <td>processHandleBroadcastAction action:android.in...</td>\n",
       "      <td>2017-12-24</td>\n",
       "      <td>1</td>\n",
       "      <td>0</td>\n",
       "      <td>0</td>\n",
       "    </tr>\n",
       "    <tr>\n",
       "      <th>1998</th>\n",
       "      <td>1999</td>\n",
       "      <td>2017-12-24 01:01:00.935</td>\n",
       "      <td>Step_LSC</td>\n",
       "      <td>30002312</td>\n",
       "      <td>processHandleBroadcastAction action:android.in...</td>\n",
       "      <td>E44</td>\n",
       "      <td>processHandleBroadcastAction action:android.in...</td>\n",
       "      <td>2017-12-24</td>\n",
       "      <td>1</td>\n",
       "      <td>1</td>\n",
       "      <td>0</td>\n",
       "    </tr>\n",
       "    <tr>\n",
       "      <th>1999</th>\n",
       "      <td>2000</td>\n",
       "      <td>2017-12-24 01:02:35.789</td>\n",
       "      <td>Step_LSC</td>\n",
       "      <td>30002312</td>\n",
       "      <td>processHandleBroadcastAction action:android.in...</td>\n",
       "      <td>E44</td>\n",
       "      <td>processHandleBroadcastAction action:android.in...</td>\n",
       "      <td>2017-12-24</td>\n",
       "      <td>1</td>\n",
       "      <td>2</td>\n",
       "      <td>35</td>\n",
       "    </tr>\n",
       "  </tbody>\n",
       "</table>\n",
       "<p>2000 rows × 11 columns</p>\n",
       "</div>"
      ],
      "text/plain": [
       "      LineId                    Time                 Component       Pid  \\\n",
       "0          1 2017-12-23 22:15:29.606                  Step_LSC  30002312   \n",
       "1          2 2017-12-23 22:15:29.615                  Step_LSC  30002312   \n",
       "2          3 2017-12-23 22:15:29.633  Step_StandReportReceiver  30002312   \n",
       "3          4 2017-12-23 22:15:29.635                  Step_LSC  30002312   \n",
       "4          5 2017-12-23 22:15:29.635     Step_StandStepCounter  30002312   \n",
       "...      ...                     ...                       ...       ...   \n",
       "1995    1996 2017-12-24 00:58:53.985                  Step_LSC  30002312   \n",
       "1996    1997 2017-12-24 00:59:07.581                  Step_LSC  30002312   \n",
       "1997    1998 2017-12-24 01:00:00.794                  Step_LSC  30002312   \n",
       "1998    1999 2017-12-24 01:01:00.935                  Step_LSC  30002312   \n",
       "1999    2000 2017-12-24 01:02:35.789                  Step_LSC  30002312   \n",
       "\n",
       "                                                Content EventId  \\\n",
       "0                               onStandStepChanged 3579     E42   \n",
       "1                         onExtend:1514038530000 14 0 4     E39   \n",
       "2     onReceive action: android.intent.action.SCREEN_ON     E41   \n",
       "3     processHandleBroadcastAction action:android.in...     E43   \n",
       "4                                     flush sensor data     E12   \n",
       "...                                                 ...     ...   \n",
       "1995  processHandleBroadcastAction action:android.in...     E44   \n",
       "1996  processHandleBroadcastAction action:android.in...     E44   \n",
       "1997  processHandleBroadcastAction action:android.in...     E44   \n",
       "1998  processHandleBroadcastAction action:android.in...     E44   \n",
       "1999  processHandleBroadcastAction action:android.in...     E44   \n",
       "\n",
       "                                          EventTemplate        Date  Hour  \\\n",
       "0                                onStandStepChanged <*>  2017-12-23    22   \n",
       "1                              onExtend:<*> <*> <*> <*>  2017-12-23    22   \n",
       "2     onReceive action: android.intent.action.SCREEN_ON  2017-12-23    22   \n",
       "3     processHandleBroadcastAction action:android.in...  2017-12-23    22   \n",
       "4                                     flush sensor data  2017-12-23    22   \n",
       "...                                                 ...         ...   ...   \n",
       "1995  processHandleBroadcastAction action:android.in...  2017-12-24     0   \n",
       "1996  processHandleBroadcastAction action:android.in...  2017-12-24     0   \n",
       "1997  processHandleBroadcastAction action:android.in...  2017-12-24     1   \n",
       "1998  processHandleBroadcastAction action:android.in...  2017-12-24     1   \n",
       "1999  processHandleBroadcastAction action:android.in...  2017-12-24     1   \n",
       "\n",
       "      Minute  Second  \n",
       "0         15      29  \n",
       "1         15      29  \n",
       "2         15      29  \n",
       "3         15      29  \n",
       "4         15      29  \n",
       "...      ...     ...  \n",
       "1995      58      53  \n",
       "1996      59       7  \n",
       "1997       0       0  \n",
       "1998       1       0  \n",
       "1999       2      35  \n",
       "\n",
       "[2000 rows x 11 columns]"
      ]
     },
     "execution_count": 10,
     "metadata": {},
     "output_type": "execute_result"
    }
   ],
   "source": [
    "df"
   ]
  },
  {
   "cell_type": "code",
   "execution_count": 11,
   "id": "9351e6aa",
   "metadata": {},
   "outputs": [
    {
     "data": {
      "text/plain": [
       "LineId           0\n",
       "Time             0\n",
       "Component        0\n",
       "Pid              0\n",
       "Content          0\n",
       "EventId          0\n",
       "EventTemplate    0\n",
       "Date             0\n",
       "Hour             0\n",
       "Minute           0\n",
       "Second           0\n",
       "dtype: int64"
      ]
     },
     "execution_count": 11,
     "metadata": {},
     "output_type": "execute_result"
    }
   ],
   "source": [
    "# checking all the null values \n",
    "df.isnull().sum()"
   ]
  },
  {
   "cell_type": "code",
   "execution_count": 12,
   "id": "c025558d",
   "metadata": {},
   "outputs": [
    {
     "data": {
      "text/plain": [
       "array(['Step_LSC', 'Step_StandReportReceiver', 'Step_StandStepCounter',\n",
       "       'Step_SPUtils', 'Step_ExtSDM', 'Step_ScreenUtil',\n",
       "       'Step_FlushableStepDataCache', 'HiH_HiAppUtil',\n",
       "       'HiH_HiHealthBinder', 'HiH_HiHealthDataInsertStore',\n",
       "       'HiH_DataStatManager', 'HiH_ListenerManager', 'HiH_HiSyncControl',\n",
       "       'HiH_HiSyncUtil', 'HiH_', 'HiH_HiBroadcastUtil',\n",
       "       'Step_StandStepDataManager', 'Step_DataCache', 'Step_HGNH',\n",
       "       'Step_NotificationUtil'], dtype=object)"
      ]
     },
     "execution_count": 12,
     "metadata": {},
     "output_type": "execute_result"
    }
   ],
   "source": [
    "# checking for all the unique value \n",
    "df['Component'].unique()"
   ]
  },
  {
   "cell_type": "code",
   "execution_count": 13,
   "id": "13700f28",
   "metadata": {},
   "outputs": [
    {
     "data": {
      "text/plain": [
       "array(['E42', 'E39', 'E41', 'E43', 'E12', 'E22', 'E58', 'E4', 'E3', 'E47',\n",
       "       'E40', 'E53', 'E35', 'E44', 'E14', 'E1', 'E75', 'E72', 'E16',\n",
       "       'E15', 'E32', 'E34', 'E49', 'E52', 'E37', 'E50', 'E2', 'E63',\n",
       "       'E73', 'E74', 'E33', 'E31', 'E8', 'E7', 'E67', 'E62', 'E61', 'E6',\n",
       "       'E64', 'E36', 'E25', 'E24', 'E28', 'E27', 'E23', 'E54', 'E51',\n",
       "       'E29', 'E30', 'E60', 'E13', 'E59', 'E69', 'E65', 'E66', 'E21',\n",
       "       'E68', 'E48', 'E19', 'E18', 'E26', 'E45', 'E9', 'E20', 'E70',\n",
       "       'E17', 'E55', 'E56', 'E71', 'E46', 'E38', 'E57', 'E10', 'E11',\n",
       "       'E5'], dtype=object)"
      ]
     },
     "execution_count": 13,
     "metadata": {},
     "output_type": "execute_result"
    }
   ],
   "source": [
    "# checking for all the 'EvenId' unique value\n",
    "df['EventId'].unique()"
   ]
  },
  {
   "cell_type": "code",
   "execution_count": 14,
   "id": "77fc666f",
   "metadata": {},
   "outputs": [],
   "source": [
    "# Drop the 'EventTemplate' columns\n",
    "df.drop(['EventTemplate'], axis=1, inplace=True)"
   ]
  },
  {
   "cell_type": "code",
   "execution_count": 16,
   "id": "8618df3d",
   "metadata": {},
   "outputs": [
    {
     "data": {
      "text/plain": [
       "0       False\n",
       "1       False\n",
       "2       False\n",
       "3       False\n",
       "4       False\n",
       "        ...  \n",
       "1995    False\n",
       "1996    False\n",
       "1997    False\n",
       "1998    False\n",
       "1999    False\n",
       "Length: 2000, dtype: bool"
      ]
     },
     "execution_count": 16,
     "metadata": {},
     "output_type": "execute_result"
    }
   ],
   "source": [
    "df.duplicated()"
   ]
  },
  {
   "cell_type": "markdown",
   "id": "d54627e2",
   "metadata": {},
   "source": [
    "<p>Data is pre-processed, now analysing the df dataframe</p>"
   ]
  },
  {
   "cell_type": "markdown",
   "id": "6a0ce861",
   "metadata": {},
   "source": [
    "## Daily Exercise Patterns"
   ]
  },
  {
   "cell_type": "code",
   "execution_count": 17,
   "id": "200f6a2d",
   "metadata": {},
   "outputs": [],
   "source": [
    "# as the number for steps are present in onStandStepChanged having EvenId 'E42'\n",
    "exercise_events = df[df['EventId'] == 'E42']\n",
    "\n",
    "# Group by date and count the number of exercise events per day\n",
    "daily_exercise_counts = exercise_events.groupby(exercise_events['Time'].dt.date).size()"
   ]
  },
  {
   "cell_type": "code",
   "execution_count": 18,
   "id": "0e3a6091",
   "metadata": {},
   "outputs": [
    {
     "data": {
      "text/html": [
       "<div>\n",
       "<style scoped>\n",
       "    .dataframe tbody tr th:only-of-type {\n",
       "        vertical-align: middle;\n",
       "    }\n",
       "\n",
       "    .dataframe tbody tr th {\n",
       "        vertical-align: top;\n",
       "    }\n",
       "\n",
       "    .dataframe thead th {\n",
       "        text-align: right;\n",
       "    }\n",
       "</style>\n",
       "<table border=\"1\" class=\"dataframe\">\n",
       "  <thead>\n",
       "    <tr style=\"text-align: right;\">\n",
       "      <th></th>\n",
       "      <th>LineId</th>\n",
       "      <th>Time</th>\n",
       "      <th>Component</th>\n",
       "      <th>Pid</th>\n",
       "      <th>Content</th>\n",
       "      <th>EventId</th>\n",
       "      <th>Date</th>\n",
       "      <th>Hour</th>\n",
       "      <th>Minute</th>\n",
       "      <th>Second</th>\n",
       "    </tr>\n",
       "  </thead>\n",
       "  <tbody>\n",
       "    <tr>\n",
       "      <th>0</th>\n",
       "      <td>1</td>\n",
       "      <td>2017-12-23 22:15:29.606</td>\n",
       "      <td>Step_LSC</td>\n",
       "      <td>30002312</td>\n",
       "      <td>onStandStepChanged 3579</td>\n",
       "      <td>E42</td>\n",
       "      <td>2017-12-23</td>\n",
       "      <td>22</td>\n",
       "      <td>15</td>\n",
       "      <td>29</td>\n",
       "    </tr>\n",
       "    <tr>\n",
       "      <th>7</th>\n",
       "      <td>8</td>\n",
       "      <td>2017-12-23 22:15:29.636</td>\n",
       "      <td>Step_LSC</td>\n",
       "      <td>30002312</td>\n",
       "      <td>onStandStepChanged 3579</td>\n",
       "      <td>E42</td>\n",
       "      <td>2017-12-23</td>\n",
       "      <td>22</td>\n",
       "      <td>15</td>\n",
       "      <td>29</td>\n",
       "    </tr>\n",
       "    <tr>\n",
       "      <th>12</th>\n",
       "      <td>13</td>\n",
       "      <td>2017-12-23 22:15:29.738</td>\n",
       "      <td>Step_LSC</td>\n",
       "      <td>30002312</td>\n",
       "      <td>onStandStepChanged 3579</td>\n",
       "      <td>E42</td>\n",
       "      <td>2017-12-23</td>\n",
       "      <td>22</td>\n",
       "      <td>15</td>\n",
       "      <td>29</td>\n",
       "    </tr>\n",
       "    <tr>\n",
       "      <th>13</th>\n",
       "      <td>14</td>\n",
       "      <td>2017-12-23 22:15:29.792</td>\n",
       "      <td>Step_LSC</td>\n",
       "      <td>30002312</td>\n",
       "      <td>onStandStepChanged 3580</td>\n",
       "      <td>E42</td>\n",
       "      <td>2017-12-23</td>\n",
       "      <td>22</td>\n",
       "      <td>15</td>\n",
       "      <td>29</td>\n",
       "    </tr>\n",
       "    <tr>\n",
       "      <th>20</th>\n",
       "      <td>21</td>\n",
       "      <td>2017-12-23 22:15:30.331</td>\n",
       "      <td>Step_LSC</td>\n",
       "      <td>30002312</td>\n",
       "      <td>onStandStepChanged 3581</td>\n",
       "      <td>E42</td>\n",
       "      <td>2017-12-23</td>\n",
       "      <td>22</td>\n",
       "      <td>15</td>\n",
       "      <td>30</td>\n",
       "    </tr>\n",
       "    <tr>\n",
       "      <th>...</th>\n",
       "      <td>...</td>\n",
       "      <td>...</td>\n",
       "      <td>...</td>\n",
       "      <td>...</td>\n",
       "      <td>...</td>\n",
       "      <td>...</td>\n",
       "      <td>...</td>\n",
       "      <td>...</td>\n",
       "      <td>...</td>\n",
       "      <td>...</td>\n",
       "    </tr>\n",
       "    <tr>\n",
       "      <th>1923</th>\n",
       "      <td>1924</td>\n",
       "      <td>2017-12-24 00:11:57.141</td>\n",
       "      <td>Step_LSC</td>\n",
       "      <td>30002312</td>\n",
       "      <td>onStandStepChanged 3786</td>\n",
       "      <td>E42</td>\n",
       "      <td>2017-12-24</td>\n",
       "      <td>0</td>\n",
       "      <td>11</td>\n",
       "      <td>57</td>\n",
       "    </tr>\n",
       "    <tr>\n",
       "      <th>1933</th>\n",
       "      <td>1934</td>\n",
       "      <td>2017-12-24 00:15:52.983</td>\n",
       "      <td>Step_LSC</td>\n",
       "      <td>30002312</td>\n",
       "      <td>onStandStepChanged 3786</td>\n",
       "      <td>E42</td>\n",
       "      <td>2017-12-24</td>\n",
       "      <td>0</td>\n",
       "      <td>15</td>\n",
       "      <td>52</td>\n",
       "    </tr>\n",
       "    <tr>\n",
       "      <th>1949</th>\n",
       "      <td>1950</td>\n",
       "      <td>2017-12-24 00:25:16.137</td>\n",
       "      <td>Step_LSC</td>\n",
       "      <td>30002312</td>\n",
       "      <td>onStandStepChanged 3786</td>\n",
       "      <td>E42</td>\n",
       "      <td>2017-12-24</td>\n",
       "      <td>0</td>\n",
       "      <td>25</td>\n",
       "      <td>16</td>\n",
       "    </tr>\n",
       "    <tr>\n",
       "      <th>1955</th>\n",
       "      <td>1956</td>\n",
       "      <td>2017-12-24 00:25:17.137</td>\n",
       "      <td>Step_LSC</td>\n",
       "      <td>30002312</td>\n",
       "      <td>onStandStepChanged 3786</td>\n",
       "      <td>E42</td>\n",
       "      <td>2017-12-24</td>\n",
       "      <td>0</td>\n",
       "      <td>25</td>\n",
       "      <td>17</td>\n",
       "    </tr>\n",
       "    <tr>\n",
       "      <th>1964</th>\n",
       "      <td>1965</td>\n",
       "      <td>2017-12-24 00:28:25.151</td>\n",
       "      <td>Step_LSC</td>\n",
       "      <td>30002312</td>\n",
       "      <td>onStandStepChanged 3786</td>\n",
       "      <td>E42</td>\n",
       "      <td>2017-12-24</td>\n",
       "      <td>0</td>\n",
       "      <td>28</td>\n",
       "      <td>25</td>\n",
       "    </tr>\n",
       "  </tbody>\n",
       "</table>\n",
       "<p>260 rows × 10 columns</p>\n",
       "</div>"
      ],
      "text/plain": [
       "      LineId                    Time Component       Pid  \\\n",
       "0          1 2017-12-23 22:15:29.606  Step_LSC  30002312   \n",
       "7          8 2017-12-23 22:15:29.636  Step_LSC  30002312   \n",
       "12        13 2017-12-23 22:15:29.738  Step_LSC  30002312   \n",
       "13        14 2017-12-23 22:15:29.792  Step_LSC  30002312   \n",
       "20        21 2017-12-23 22:15:30.331  Step_LSC  30002312   \n",
       "...      ...                     ...       ...       ...   \n",
       "1923    1924 2017-12-24 00:11:57.141  Step_LSC  30002312   \n",
       "1933    1934 2017-12-24 00:15:52.983  Step_LSC  30002312   \n",
       "1949    1950 2017-12-24 00:25:16.137  Step_LSC  30002312   \n",
       "1955    1956 2017-12-24 00:25:17.137  Step_LSC  30002312   \n",
       "1964    1965 2017-12-24 00:28:25.151  Step_LSC  30002312   \n",
       "\n",
       "                      Content EventId        Date  Hour  Minute  Second  \n",
       "0     onStandStepChanged 3579     E42  2017-12-23    22      15      29  \n",
       "7     onStandStepChanged 3579     E42  2017-12-23    22      15      29  \n",
       "12    onStandStepChanged 3579     E42  2017-12-23    22      15      29  \n",
       "13    onStandStepChanged 3580     E42  2017-12-23    22      15      29  \n",
       "20    onStandStepChanged 3581     E42  2017-12-23    22      15      30  \n",
       "...                       ...     ...         ...   ...     ...     ...  \n",
       "1923  onStandStepChanged 3786     E42  2017-12-24     0      11      57  \n",
       "1933  onStandStepChanged 3786     E42  2017-12-24     0      15      52  \n",
       "1949  onStandStepChanged 3786     E42  2017-12-24     0      25      16  \n",
       "1955  onStandStepChanged 3786     E42  2017-12-24     0      25      17  \n",
       "1964  onStandStepChanged 3786     E42  2017-12-24     0      28      25  \n",
       "\n",
       "[260 rows x 10 columns]"
      ]
     },
     "execution_count": 18,
     "metadata": {},
     "output_type": "execute_result"
    }
   ],
   "source": [
    "exercise_events"
   ]
  },
  {
   "cell_type": "code",
   "execution_count": 19,
   "id": "e0854885",
   "metadata": {},
   "outputs": [
    {
     "data": {
      "text/plain": [
       "Time\n",
       "2017-12-23    236\n",
       "2017-12-24     24\n",
       "dtype: int64"
      ]
     },
     "execution_count": 19,
     "metadata": {},
     "output_type": "execute_result"
    }
   ],
   "source": [
    "daily_exercise_counts"
   ]
  },
  {
   "cell_type": "code",
   "execution_count": 20,
   "id": "470a4d11",
   "metadata": {},
   "outputs": [
    {
     "data": {
      "image/png": "[encoded data removed]",
      "text/plain": [
       "<Figure size 864x432 with 1 Axes>"
      ]
     },
     "metadata": {
      "needs_background": "light"
     },
     "output_type": "display_data"
    }
   ],
   "source": [
    "plt.figure(figsize=(12, 6))\n",
    "plt.plot(daily_exercise_counts.index, daily_exercise_counts.values, marker='o', linestyle='-')\n",
    "plt.title('Daily Exercise Patterns')\n",
    "plt.xlabel('Date')\n",
    "plt.ylabel('Number of Exercise Events')\n",
    "plt.grid(True)\n",
    "\n",
    "# Show the plot\n",
    "plt.tight_layout()\n",
    "plt.show()"
   ]
  },
  {
   "cell_type": "markdown",
   "id": "23817e9a",
   "metadata": {},
   "source": [
    "<p>As per the above graph </p> \n",
    "<li>Given data consists of two days stepchange</li>\n",
    "<li>Date of the following data set '2017-12-23' and '2017-12-24'</li>\n",
    "<li>on '2017-12-23' the user step changes count is 236 and on '2017-12-24'the user step changes count is 24</li>"
   ]
  },
  {
   "cell_type": "markdown",
   "id": "490e6d98",
   "metadata": {},
   "source": [
    "## Hour vs onStandStepChanged Analysis"
   ]
  },
  {
   "cell_type": "code",
   "execution_count": 21,
   "id": "af25eb83",
   "metadata": {},
   "outputs": [
    {
     "name": "stderr",
     "output_type": "stream",
     "text": [
      "C:\\Users\\hp\\AppData\\Local\\Temp/ipykernel_11036/1171699007.py:2: SettingWithCopyWarning: \n",
      "A value is trying to be set on a copy of a slice from a DataFrame.\n",
      "Try using .loc[row_indexer,col_indexer] = value instead\n",
      "\n",
      "See the caveats in the documentation: https://pandas.pydata.org/pandas-docs/stable/user_guide/indexing.html#returning-a-view-versus-a-copy\n",
      "  analysis_over_steps['StepCount'] = analysis_over_steps['Content'].str.extract(r'onStandStepChanged (\\d+)')[0].astype(float)\n"
     ]
    }
   ],
   "source": [
    "analysis_over_steps = df[df['EventId'].isin(['E42'])]\n",
    "analysis_over_steps['StepCount'] = analysis_over_steps['Content'].str.extract(r'onStandStepChanged (\\d+)')[0].astype(float)"
   ]
  },
  {
   "cell_type": "code",
   "execution_count": 22,
   "id": "44d4b3e4",
   "metadata": {},
   "outputs": [
    {
     "data": {
      "text/html": [
       "<div>\n",
       "<style scoped>\n",
       "    .dataframe tbody tr th:only-of-type {\n",
       "        vertical-align: middle;\n",
       "    }\n",
       "\n",
       "    .dataframe tbody tr th {\n",
       "        vertical-align: top;\n",
       "    }\n",
       "\n",
       "    .dataframe thead th {\n",
       "        text-align: right;\n",
       "    }\n",
       "</style>\n",
       "<table border=\"1\" class=\"dataframe\">\n",
       "  <thead>\n",
       "    <tr style=\"text-align: right;\">\n",
       "      <th></th>\n",
       "      <th>LineId</th>\n",
       "      <th>Time</th>\n",
       "      <th>Component</th>\n",
       "      <th>Pid</th>\n",
       "      <th>Content</th>\n",
       "      <th>EventId</th>\n",
       "      <th>Date</th>\n",
       "      <th>Hour</th>\n",
       "      <th>Minute</th>\n",
       "      <th>Second</th>\n",
       "      <th>StepCount</th>\n",
       "    </tr>\n",
       "  </thead>\n",
       "  <tbody>\n",
       "    <tr>\n",
       "      <th>0</th>\n",
       "      <td>1</td>\n",
       "      <td>2017-12-23 22:15:29.606</td>\n",
       "      <td>Step_LSC</td>\n",
       "      <td>30002312</td>\n",
       "      <td>onStandStepChanged 3579</td>\n",
       "      <td>E42</td>\n",
       "      <td>2017-12-23</td>\n",
       "      <td>22</td>\n",
       "      <td>15</td>\n",
       "      <td>29</td>\n",
       "      <td>3579.0</td>\n",
       "    </tr>\n",
       "    <tr>\n",
       "      <th>7</th>\n",
       "      <td>8</td>\n",
       "      <td>2017-12-23 22:15:29.636</td>\n",
       "      <td>Step_LSC</td>\n",
       "      <td>30002312</td>\n",
       "      <td>onStandStepChanged 3579</td>\n",
       "      <td>E42</td>\n",
       "      <td>2017-12-23</td>\n",
       "      <td>22</td>\n",
       "      <td>15</td>\n",
       "      <td>29</td>\n",
       "      <td>3579.0</td>\n",
       "    </tr>\n",
       "    <tr>\n",
       "      <th>12</th>\n",
       "      <td>13</td>\n",
       "      <td>2017-12-23 22:15:29.738</td>\n",
       "      <td>Step_LSC</td>\n",
       "      <td>30002312</td>\n",
       "      <td>onStandStepChanged 3579</td>\n",
       "      <td>E42</td>\n",
       "      <td>2017-12-23</td>\n",
       "      <td>22</td>\n",
       "      <td>15</td>\n",
       "      <td>29</td>\n",
       "      <td>3579.0</td>\n",
       "    </tr>\n",
       "    <tr>\n",
       "      <th>13</th>\n",
       "      <td>14</td>\n",
       "      <td>2017-12-23 22:15:29.792</td>\n",
       "      <td>Step_LSC</td>\n",
       "      <td>30002312</td>\n",
       "      <td>onStandStepChanged 3580</td>\n",
       "      <td>E42</td>\n",
       "      <td>2017-12-23</td>\n",
       "      <td>22</td>\n",
       "      <td>15</td>\n",
       "      <td>29</td>\n",
       "      <td>3580.0</td>\n",
       "    </tr>\n",
       "    <tr>\n",
       "      <th>20</th>\n",
       "      <td>21</td>\n",
       "      <td>2017-12-23 22:15:30.331</td>\n",
       "      <td>Step_LSC</td>\n",
       "      <td>30002312</td>\n",
       "      <td>onStandStepChanged 3581</td>\n",
       "      <td>E42</td>\n",
       "      <td>2017-12-23</td>\n",
       "      <td>22</td>\n",
       "      <td>15</td>\n",
       "      <td>30</td>\n",
       "      <td>3581.0</td>\n",
       "    </tr>\n",
       "    <tr>\n",
       "      <th>...</th>\n",
       "      <td>...</td>\n",
       "      <td>...</td>\n",
       "      <td>...</td>\n",
       "      <td>...</td>\n",
       "      <td>...</td>\n",
       "      <td>...</td>\n",
       "      <td>...</td>\n",
       "      <td>...</td>\n",
       "      <td>...</td>\n",
       "      <td>...</td>\n",
       "      <td>...</td>\n",
       "    </tr>\n",
       "    <tr>\n",
       "      <th>1923</th>\n",
       "      <td>1924</td>\n",
       "      <td>2017-12-24 00:11:57.141</td>\n",
       "      <td>Step_LSC</td>\n",
       "      <td>30002312</td>\n",
       "      <td>onStandStepChanged 3786</td>\n",
       "      <td>E42</td>\n",
       "      <td>2017-12-24</td>\n",
       "      <td>0</td>\n",
       "      <td>11</td>\n",
       "      <td>57</td>\n",
       "      <td>3786.0</td>\n",
       "    </tr>\n",
       "    <tr>\n",
       "      <th>1933</th>\n",
       "      <td>1934</td>\n",
       "      <td>2017-12-24 00:15:52.983</td>\n",
       "      <td>Step_LSC</td>\n",
       "      <td>30002312</td>\n",
       "      <td>onStandStepChanged 3786</td>\n",
       "      <td>E42</td>\n",
       "      <td>2017-12-24</td>\n",
       "      <td>0</td>\n",
       "      <td>15</td>\n",
       "      <td>52</td>\n",
       "      <td>3786.0</td>\n",
       "    </tr>\n",
       "    <tr>\n",
       "      <th>1949</th>\n",
       "      <td>1950</td>\n",
       "      <td>2017-12-24 00:25:16.137</td>\n",
       "      <td>Step_LSC</td>\n",
       "      <td>30002312</td>\n",
       "      <td>onStandStepChanged 3786</td>\n",
       "      <td>E42</td>\n",
       "      <td>2017-12-24</td>\n",
       "      <td>0</td>\n",
       "      <td>25</td>\n",
       "      <td>16</td>\n",
       "      <td>3786.0</td>\n",
       "    </tr>\n",
       "    <tr>\n",
       "      <th>1955</th>\n",
       "      <td>1956</td>\n",
       "      <td>2017-12-24 00:25:17.137</td>\n",
       "      <td>Step_LSC</td>\n",
       "      <td>30002312</td>\n",
       "      <td>onStandStepChanged 3786</td>\n",
       "      <td>E42</td>\n",
       "      <td>2017-12-24</td>\n",
       "      <td>0</td>\n",
       "      <td>25</td>\n",
       "      <td>17</td>\n",
       "      <td>3786.0</td>\n",
       "    </tr>\n",
       "    <tr>\n",
       "      <th>1964</th>\n",
       "      <td>1965</td>\n",
       "      <td>2017-12-24 00:28:25.151</td>\n",
       "      <td>Step_LSC</td>\n",
       "      <td>30002312</td>\n",
       "      <td>onStandStepChanged 3786</td>\n",
       "      <td>E42</td>\n",
       "      <td>2017-12-24</td>\n",
       "      <td>0</td>\n",
       "      <td>28</td>\n",
       "      <td>25</td>\n",
       "      <td>3786.0</td>\n",
       "    </tr>\n",
       "  </tbody>\n",
       "</table>\n",
       "<p>260 rows × 11 columns</p>\n",
       "</div>"
      ],
      "text/plain": [
       "      LineId                    Time Component       Pid  \\\n",
       "0          1 2017-12-23 22:15:29.606  Step_LSC  30002312   \n",
       "7          8 2017-12-23 22:15:29.636  Step_LSC  30002312   \n",
       "12        13 2017-12-23 22:15:29.738  Step_LSC  30002312   \n",
       "13        14 2017-12-23 22:15:29.792  Step_LSC  30002312   \n",
       "20        21 2017-12-23 22:15:30.331  Step_LSC  30002312   \n",
       "...      ...                     ...       ...       ...   \n",
       "1923    1924 2017-12-24 00:11:57.141  Step_LSC  30002312   \n",
       "1933    1934 2017-12-24 00:15:52.983  Step_LSC  30002312   \n",
       "1949    1950 2017-12-24 00:25:16.137  Step_LSC  30002312   \n",
       "1955    1956 2017-12-24 00:25:17.137  Step_LSC  30002312   \n",
       "1964    1965 2017-12-24 00:28:25.151  Step_LSC  30002312   \n",
       "\n",
       "                      Content EventId        Date  Hour  Minute  Second  \\\n",
       "0     onStandStepChanged 3579     E42  2017-12-23    22      15      29   \n",
       "7     onStandStepChanged 3579     E42  2017-12-23    22      15      29   \n",
       "12    onStandStepChanged 3579     E42  2017-12-23    22      15      29   \n",
       "13    onStandStepChanged 3580     E42  2017-12-23    22      15      29   \n",
       "20    onStandStepChanged 3581     E42  2017-12-23    22      15      30   \n",
       "...                       ...     ...         ...   ...     ...     ...   \n",
       "1923  onStandStepChanged 3786     E42  2017-12-24     0      11      57   \n",
       "1933  onStandStepChanged 3786     E42  2017-12-24     0      15      52   \n",
       "1949  onStandStepChanged 3786     E42  2017-12-24     0      25      16   \n",
       "1955  onStandStepChanged 3786     E42  2017-12-24     0      25      17   \n",
       "1964  onStandStepChanged 3786     E42  2017-12-24     0      28      25   \n",
       "\n",
       "      StepCount  \n",
       "0        3579.0  \n",
       "7        3579.0  \n",
       "12       3579.0  \n",
       "13       3580.0  \n",
       "20       3581.0  \n",
       "...         ...  \n",
       "1923     3786.0  \n",
       "1933     3786.0  \n",
       "1949     3786.0  \n",
       "1955     3786.0  \n",
       "1964     3786.0  \n",
       "\n",
       "[260 rows x 11 columns]"
      ]
     },
     "execution_count": 22,
     "metadata": {},
     "output_type": "execute_result"
    }
   ],
   "source": [
    "analysis_over_steps"
   ]
  },
  {
   "cell_type": "code",
   "execution_count": 37,
   "id": "87aa15de",
   "metadata": {},
   "outputs": [
    {
     "data": {
      "image/png": "[encoded data removed]",
      "text/plain": [
       "<Figure size 720x432 with 1 Axes>"
      ]
     },
     "metadata": {
      "needs_background": "light"
     },
     "output_type": "display_data"
    }
   ],
   "source": [
    "# Create a line plot to show the relationship between hours and step counts\n",
    "plt.figure(figsize=(10, 6))\n",
    "plt.plot(analysis_over_steps['Hour'],analysis_over_steps['StepCount'], marker='o', linestyle='-', color='b')\n",
    "plt.title('Hourly Step Count')\n",
    "plt.xlabel('Hour of the Day')\n",
    "plt.ylabel('Average Step Count')\n",
    "plt.xticks(analysis_over_steps['Hour'])\n",
    "plt.grid(True)\n",
    "\n",
    "# Show the plot\n",
    "plt.show()"
   ]
  },
  {
   "cell_type": "code",
   "execution_count": 52,
   "id": "46532d9d",
   "metadata": {},
   "outputs": [
    {
     "name": "stdout",
     "output_type": "stream",
     "text": [
      "167\n",
      "69\n",
      "24\n"
     ]
    }
   ],
   "source": [
    "numberof22= (analysis_over_steps['Hour']==22).sum()\n",
    "numberof23=(analysis_over_steps['Hour']==23).sum()\n",
    "numberof0= (analysis_over_steps['Hour']==0).sum()\n",
    "print(numberof22)\n",
    "print(numberof23)\n",
    "print(numberof0)"
   ]
  },
  {
   "cell_type": "markdown",
   "id": "d7a08a94",
   "metadata": {},
   "source": [
    "<h3>As per the analysis of the above Graph</h3>\n",
    "<p>For 2017-12-23 <p>\n",
    "<li>The user intensively changing its steps at '22', it almost 167 time the stepscount changed</li>\n",
    "<li>The user slows down the activity at '23', the total stepcount change are 69</li>\n",
    "<p>For 2017-12-23</p>\n",
    "<li>The total number of stepcount changed at Hour '0' is 24</li>\n",
    "<p>After overall analysis, the stepchange count is decreasing, which means the user is slowing down its walking count.</p>"
   ]
  },
  {
   "cell_type": "markdown",
   "id": "6677233e",
   "metadata": {},
   "source": [
    "<h3>Anlysis the step count with hours</h3>"
   ]
  },
  {
   "cell_type": "code",
   "execution_count": 58,
   "id": "ec471c52",
   "metadata": {},
   "outputs": [],
   "source": [
    "hourly_step_counts = analysis_over_steps.groupby('Hour')['StepCount'].max()"
   ]
  },
  {
   "cell_type": "code",
   "execution_count": 59,
   "id": "721dd7c2",
   "metadata": {},
   "outputs": [
    {
     "data": {
      "text/plain": [
       "Hour\n",
       "0     3786.0\n",
       "22    3761.0\n",
       "23    3786.0\n",
       "Name: StepCount, dtype: float64"
      ]
     },
     "execution_count": 59,
     "metadata": {},
     "output_type": "execute_result"
    }
   ],
   "source": [
    "hourly_step_counts"
   ]
  },
  {
   "cell_type": "code",
   "execution_count": 60,
   "id": "7acc9d92",
   "metadata": {},
   "outputs": [
    {
     "data": {
      "image/png": "[encoded data removed]",
      "text/plain": [
       "<Figure size 720x432 with 1 Axes>"
      ]
     },
     "metadata": {
      "needs_background": "light"
     },
     "output_type": "display_data"
    }
   ],
   "source": [
    "plt.figure(figsize=(10, 6))\n",
    "plt.plot(hourly_step_counts.index, hourly_step_counts.values, marker='o', linestyle='-', color='b')\n",
    "plt.title('Hourly Step Count')\n",
    "plt.xlabel('Hour of the Day')\n",
    "plt.ylabel('Average Step Count')\n",
    "plt.xticks(hourly_step_counts.index)\n",
    "plt.grid(True)"
   ]
  },
  {
   "cell_type": "markdown",
   "id": "c920bae6",
   "metadata": {},
   "source": [
    "<h3>The above graph represent the Hourly step count</h3>\n",
    "<li>The data set have 3 points of hours</li>\n",
    "<li>'22' and '23' represent the hours of date '2017-12-23'</li>\n",
    "<li>'0' represented the Hours of date '2017-12-24'</li>\n",
    "<li>At '22' the number of steps count is 3761.0</li>\n",
    "<li>At '23' the number of steps count is 3786.0</li>\n",
    "<li>At '0' the number of steps count is 3786.0</li>\n",
    "<li>As, we can see that the onStandStepChanged is triggered at value of '0' but the number of steps are not changed</li>"
   ]
  },
  {
   "cell_type": "markdown",
   "id": "d8a51a69",
   "metadata": {},
   "source": [
    "## Exercise Duration"
   ]
  },
  {
   "cell_type": "code",
   "execution_count": 61,
   "id": "83bd0476",
   "metadata": {},
   "outputs": [
    {
     "name": "stderr",
     "output_type": "stream",
     "text": [
      "C:\\Users\\hp\\AppData\\Local\\Temp/ipykernel_11036/1960470082.py:2: SettingWithCopyWarning: \n",
      "A value is trying to be set on a copy of a slice from a DataFrame.\n",
      "Try using .loc[row_indexer,col_indexer] = value instead\n",
      "\n",
      "See the caveats in the documentation: https://pandas.pydata.org/pandas-docs/stable/user_guide/indexing.html#returning-a-view-versus-a-copy\n",
      "  exercise_events['Duration'] = exercise_events.groupby(['Pid', 'EventId'])['Time'].diff()\n"
     ]
    }
   ],
   "source": [
    "exercise_events = df[df['EventId'].isin(['E42'])]\n",
    "exercise_events['Duration'] = exercise_events.groupby(['Pid', 'EventId'])['Time'].diff()\n",
    "\n",
    "# Drop rows with missing durations (e.g., missing 'onExtend' events)\n",
    "exercise_events = exercise_events.dropna(subset=['Duration'])"
   ]
  },
  {
   "cell_type": "code",
   "execution_count": 70,
   "id": "3355e9f0",
   "metadata": {},
   "outputs": [
    {
     "data": {
      "text/html": [
       "<div>\n",
       "<style scoped>\n",
       "    .dataframe tbody tr th:only-of-type {\n",
       "        vertical-align: middle;\n",
       "    }\n",
       "\n",
       "    .dataframe tbody tr th {\n",
       "        vertical-align: top;\n",
       "    }\n",
       "\n",
       "    .dataframe thead th {\n",
       "        text-align: right;\n",
       "    }\n",
       "</style>\n",
       "<table border=\"1\" class=\"dataframe\">\n",
       "  <thead>\n",
       "    <tr style=\"text-align: right;\">\n",
       "      <th></th>\n",
       "      <th>LineId</th>\n",
       "      <th>Time</th>\n",
       "      <th>Component</th>\n",
       "      <th>Pid</th>\n",
       "      <th>Content</th>\n",
       "      <th>EventId</th>\n",
       "      <th>Date</th>\n",
       "      <th>Hour</th>\n",
       "      <th>Minute</th>\n",
       "      <th>Second</th>\n",
       "      <th>Duration</th>\n",
       "      <th>DurationSeconds</th>\n",
       "      <th>StepCount</th>\n",
       "    </tr>\n",
       "  </thead>\n",
       "  <tbody>\n",
       "    <tr>\n",
       "      <th>7</th>\n",
       "      <td>8</td>\n",
       "      <td>2017-12-23 22:15:29.636</td>\n",
       "      <td>Step_LSC</td>\n",
       "      <td>30002312</td>\n",
       "      <td>onStandStepChanged 3579</td>\n",
       "      <td>E42</td>\n",
       "      <td>2017-12-23</td>\n",
       "      <td>22</td>\n",
       "      <td>15</td>\n",
       "      <td>29</td>\n",
       "      <td>0 days 00:00:00.030000</td>\n",
       "      <td>0.030</td>\n",
       "      <td>3579.0</td>\n",
       "    </tr>\n",
       "    <tr>\n",
       "      <th>12</th>\n",
       "      <td>13</td>\n",
       "      <td>2017-12-23 22:15:29.738</td>\n",
       "      <td>Step_LSC</td>\n",
       "      <td>30002312</td>\n",
       "      <td>onStandStepChanged 3579</td>\n",
       "      <td>E42</td>\n",
       "      <td>2017-12-23</td>\n",
       "      <td>22</td>\n",
       "      <td>15</td>\n",
       "      <td>29</td>\n",
       "      <td>0 days 00:00:00.102000</td>\n",
       "      <td>0.102</td>\n",
       "      <td>3579.0</td>\n",
       "    </tr>\n",
       "  </tbody>\n",
       "</table>\n",
       "</div>"
      ],
      "text/plain": [
       "    LineId                    Time Component       Pid  \\\n",
       "7        8 2017-12-23 22:15:29.636  Step_LSC  30002312   \n",
       "12      13 2017-12-23 22:15:29.738  Step_LSC  30002312   \n",
       "\n",
       "                    Content EventId        Date  Hour  Minute  Second  \\\n",
       "7   onStandStepChanged 3579     E42  2017-12-23    22      15      29   \n",
       "12  onStandStepChanged 3579     E42  2017-12-23    22      15      29   \n",
       "\n",
       "                 Duration  DurationSeconds  StepCount  \n",
       "7  0 days 00:00:00.030000            0.030     3579.0  \n",
       "12 0 days 00:00:00.102000            0.102     3579.0  "
      ]
     },
     "execution_count": 70,
     "metadata": {},
     "output_type": "execute_result"
    }
   ],
   "source": [
    "exercise_events.head(2)"
   ]
  },
  {
   "cell_type": "code",
   "execution_count": 67,
   "id": "a9c4f95d",
   "metadata": {},
   "outputs": [],
   "source": [
    "exercise_events = exercise_events.dropna(subset=['Duration'])\n",
    "\n",
    "# Convert duration to seconds\n",
    "exercise_events['DurationSeconds'] = exercise_events['Duration'].dt.total_seconds()"
   ]
  },
  {
   "cell_type": "code",
   "execution_count": 69,
   "id": "e4a2bb52",
   "metadata": {},
   "outputs": [
    {
     "data": {
      "image/png": "[encoded data removed]",
      "text/plain": [
       "<Figure size 720x432 with 1 Axes>"
      ]
     },
     "metadata": {
      "needs_background": "light"
     },
     "output_type": "display_data"
    }
   ],
   "source": [
    "plt.figure(figsize=(10, 6))\n",
    "plt.hist(exercise_events['DurationSeconds'], bins=20, edgecolor='black')\n",
    "plt.title('Exercise Duration Distribution')\n",
    "plt.xlabel('Duration (seconds)')\n",
    "plt.ylabel('Frequency')\n",
    "plt.grid(True)\n",
    "\n",
    "# Show the plot\n",
    "plt.tight_layout()\n",
    "plt.show()"
   ]
  },
  {
   "cell_type": "markdown",
   "id": "de003147",
   "metadata": {},
   "source": [
    "<p>The above graph represent the frequency of EVENTID E42 with the time duration starts from zero</p>\n",
    "<li>This graph show the intensity of the E42 eventid is high in the beggining of the dataset till the 100 duration(in seconds)</li>"
   ]
  },
  {
   "cell_type": "markdown",
   "id": "05a6081c",
   "metadata": {},
   "source": [
    "## Analysing Days and their steps"
   ]
  },
  {
   "cell_type": "code",
   "execution_count": 30,
   "id": "36322220",
   "metadata": {},
   "outputs": [],
   "source": [
    "# Group exercise events by date and count the number of events per day\n",
    "activity_per_day = exercise_events.groupby(exercise_events['Time'].dt.date).size()\n",
    "\n",
    "# Sort the days by activity count in descending order\n",
    "activity_per_day = activity_per_day.sort_values(ascending=False)"
   ]
  },
  {
   "cell_type": "code",
   "execution_count": 32,
   "id": "18415e90",
   "metadata": {},
   "outputs": [
    {
     "data": {
      "image/png": "[encoded data removed]",
      "text/plain": [
       "<Figure size 864x432 with 1 Axes>"
      ]
     },
     "metadata": {
      "needs_background": "light"
     },
     "output_type": "display_data"
    }
   ],
   "source": [
    "top_n_days = 2  # Change this to display a different number of days\n",
    "plt.figure(figsize=(12, 6))\n",
    "activity_per_day.head(top_n_days).plot(kind='bar', color='skyblue')\n",
    "plt.title(f'Top {top_n_days} Days with the Most Activity')\n",
    "plt.xlabel('Date')\n",
    "plt.ylabel('Number of Exercise Events')\n",
    "plt.xticks(rotation=0)\n",
    "plt.grid(axis='y')\n",
    "\n",
    "# Show the plot\n",
    "plt.tight_layout()\n",
    "plt.show()"
   ]
  },
  {
   "cell_type": "markdown",
   "id": "f313a96c",
   "metadata": {},
   "source": [
    "<h3>The above graph represent the Event analysis with 2 days</h3>\n",
    "<li>The number of Event on 2017-12-23 is 250+ </li>\n",
    "<li>The number of event on 2017-12-24 is around 30</li>\n",
    "<li>2017-12-23 has more number of event as compare to 2017-12-24</li>"
   ]
  },
  {
   "cell_type": "markdown",
   "id": "ba8a9f8a",
   "metadata": {},
   "source": [
    "## Number of events and their frequency "
   ]
  },
  {
   "cell_type": "code",
   "execution_count": 33,
   "id": "6334df50",
   "metadata": {},
   "outputs": [],
   "source": [
    "event_type_counts = df['EventId'].value_counts()"
   ]
  },
  {
   "cell_type": "code",
   "execution_count": 34,
   "id": "a6548f92",
   "metadata": {},
   "outputs": [
    {
     "data": {
      "image/png": "[encoded data removed]",
      "text/plain": [
       "<Figure size 1080x432 with 1 Axes>"
      ]
     },
     "metadata": {
      "needs_background": "light"
     },
     "output_type": "display_data"
    }
   ],
   "source": [
    "plt.figure(figsize=(15, 6))\n",
    "event_type_counts.plot(kind='bar', color='skyblue')\n",
    "plt.title('Event Type Analysis')\n",
    "plt.xlabel('Event Type (EventId)')\n",
    "plt.ylabel('Frequency')\n",
    "# plt.xticks(rotation=45)\n",
    "plt.grid(axis='y')\n",
    "\n",
    "# Show the plot\n",
    "plt.tight_layout()\n",
    "plt.show()"
   ]
  },
  {
   "cell_type": "markdown",
   "id": "7e9d5428",
   "metadata": {},
   "source": [
    "<h3>The above graph represent the Event Type Analysis</h3>\n",
    "<li>EventId E39 (onExtend) have the highest occurance in the dataset, it is around 250+ times trigger in the dataset</li>\n",
    "<li>The EventId E22(getTodayTotalDetailSteps),E58(setTodayTotalDetailSteps),E3(calculateAltitudeWithCache totalAltitude),E4(calculateCaloriesWithCache totalCalories) have same number of occurance in the dataset</li>\n",
    "<li>E44 and E47 have the same number of occurance </li>\n",
    "<li>E12, E40,E41,E37 and E43 have occurance around 10 times</li>"
   ]
  },
  {
   "cell_type": "markdown",
   "id": "92a706fd",
   "metadata": {},
   "source": [
    "<h2>Analysis on calculateCaloriesWithCache totalCalories Event ID E4</h2>"
   ]
  },
  {
   "cell_type": "code",
   "execution_count": 83,
   "id": "aeab4765",
   "metadata": {},
   "outputs": [],
   "source": [
    "CaloriesWithCache_df = df[df['EventId'] == 'E4'][['Hour', 'EventId','Content']]\n",
    "CaloriesWithCache_df['totalCalories'] = CaloriesWithCache_df['Content'].str.extract(r'totalCalories=(\\d+)')[0].astype(float)"
   ]
  },
  {
   "cell_type": "code",
   "execution_count": 109,
   "id": "778073ae",
   "metadata": {},
   "outputs": [
    {
     "data": {
      "text/plain": [
       "131208.0"
      ]
     },
     "execution_count": 109,
     "metadata": {},
     "output_type": "execute_result"
    }
   ],
   "source": [
    "CaloriesWithCache_df['totalCalories'].max()"
   ]
  },
  {
   "cell_type": "code",
   "execution_count": 97,
   "id": "e6ac2dc3",
   "metadata": {},
   "outputs": [
    {
     "data": {
      "image/png": "[encoded data removed]",
      "text/plain": [
       "<Figure size 720x432 with 1 Axes>"
      ]
     },
     "metadata": {
      "needs_background": "light"
     },
     "output_type": "display_data"
    }
   ],
   "source": [
    "plt.figure(figsize=(10, 6))\n",
    "plt.plot(CaloriesWithCache_df['Hour'], CaloriesWithCache_df['totalCalories'], color='blue')\n",
    "plt.xlabel('Hour')\n",
    "plt.ylabel('CaloriesWithCache')\n",
    "plt.title('CaloriesWithCache vs. Hour')\n",
    "\n",
    "# Show the plot\n",
    "plt.grid(axis='y')\n",
    "plt.tight_layout()\n",
    "plt.show()"
   ]
  },
  {
   "cell_type": "markdown",
   "id": "9a052cda",
   "metadata": {},
   "source": [
    "<p>As per the analysis of the above bar graph the most of the calories count are occured at the time of '22' and '23'</p>\n",
    "<li>Maximum calories of the dataset is 131208</li>"
   ]
  },
  {
   "cell_type": "markdown",
   "id": "ca9a6b20",
   "metadata": {},
   "source": [
    "<h2>Analysis on calculateAltitudeWithCache totalAltitude</h2>"
   ]
  },
  {
   "cell_type": "code",
   "execution_count": 93,
   "id": "98e09034",
   "metadata": {},
   "outputs": [],
   "source": [
    "totalAltitude_df = df[df['EventId'] == 'E3'][['Hour', 'EventId','Content']]\n",
    "totalAltitude_df['totalAltitude'] = totalAltitude_df['Content'].str.extract(r'totalAltitude=(\\d+)')[0].astype(float)"
   ]
  },
  {
   "cell_type": "code",
   "execution_count": 108,
   "id": "123252df",
   "metadata": {},
   "outputs": [
    {
     "data": {
      "text/plain": [
       "array([240.,   0.])"
      ]
     },
     "execution_count": 108,
     "metadata": {},
     "output_type": "execute_result"
    }
   ],
   "source": [
    "totalAltitude_df['totalAltitude'].unique()"
   ]
  },
  {
   "cell_type": "code",
   "execution_count": 98,
   "id": "8758b546",
   "metadata": {},
   "outputs": [
    {
     "data": {
      "image/png": "[encoded data removed]",
      "text/plain": [
       "<Figure size 720x432 with 1 Axes>"
      ]
     },
     "metadata": {
      "needs_background": "light"
     },
     "output_type": "display_data"
    }
   ],
   "source": [
    "plt.figure(figsize=(10, 6))\n",
    "plt.plot(totalAltitude_df['Hour'], totalAltitude_df['totalAltitude'], color='blue')\n",
    "plt.xlabel('Hour')\n",
    "plt.ylabel('calculateAltitudeWithCache totalAltitude')\n",
    "plt.title('calculateAltitudeWithCache totalAltitude vs. Hour')\n",
    "\n",
    "# Show the plot\n",
    "plt.grid(axis='y')\n",
    "plt.tight_layout()\n",
    "plt.show()"
   ]
  },
  {
   "cell_type": "markdown",
   "id": "913dd663",
   "metadata": {},
   "source": [
    "This graph is also showing the high intensity at 22 and 23 which is equal to 240  "
   ]
  },
  {
   "cell_type": "markdown",
   "id": "d6a5b9f9",
   "metadata": {},
   "source": [
    "## Timeline"
   ]
  },
  {
   "cell_type": "code",
   "execution_count": 35,
   "id": "01ae5e2c",
   "metadata": {},
   "outputs": [
    {
     "data": {
      "image/png": "[encoded data removed]",
      "text/plain": [
       "<Figure size 864x432 with 1 Axes>"
      ]
     },
     "metadata": {
      "needs_background": "light"
     },
     "output_type": "display_data"
    }
   ],
   "source": [
    "# Create a scatter plot to visualize event occurrences over time\n",
    "plt.figure(figsize=(12, 6))\n",
    "plt.scatter(df['Time'], df.index, marker='o', s=10, alpha=0.5)\n",
    "plt.title('Event Timeline')\n",
    "plt.xlabel('Time')\n",
    "plt.ylabel('Event Index')\n",
    "plt.grid(True)\n",
    "\n",
    "# Show the plot\n",
    "plt.tight_layout()\n",
    "plt.show()"
   ]
  },
  {
   "cell_type": "markdown",
   "id": "b6a8ceed",
   "metadata": {},
   "source": [
    "<p>The Event timeline expressed the scatter plot with high intensity before 23 22:30 </p>"
   ]
  },
  {
   "cell_type": "markdown",
   "id": "25ab4785",
   "metadata": {},
   "source": [
    "## Frequency of steps count along with Hours"
   ]
  },
  {
   "cell_type": "code",
   "execution_count": 36,
   "id": "2b51db1c",
   "metadata": {},
   "outputs": [
    {
     "data": {
      "image/png": "[encoded data removed]",
      "text/plain": [
       "<Figure size 720x432 with 1 Axes>"
      ]
     },
     "metadata": {
      "needs_background": "light"
     },
     "output_type": "display_data"
    }
   ],
   "source": [
    "hourly_step_counts = df.groupby('Hour')['StepCount'].mean()\n",
    "\n",
    "# Create a line plot to show the relationship between hours and step counts\n",
    "plt.figure(figsize=(10, 6))\n",
    "plt.plot(hourly_step_counts.index, hourly_step_counts.values, marker='o', linestyle='-', color='b')\n",
    "plt.title('Hourly Step Count')\n",
    "plt.xlabel('Hour of the Day')\n",
    "plt.ylabel('Average Step Count')\n",
    "plt.xticks(hourly_step_counts.index)\n",
    "plt.grid(True)\n",
    "\n",
    "# Show the plot\n",
    "plt.show()"
   ]
  },
  {
   "cell_type": "markdown",
   "id": "6a4aad11",
   "metadata": {},
   "source": [
    "## week day and weekend activity"
   ]
  },
  {
   "cell_type": "code",
   "execution_count": 37,
   "id": "007c8986",
   "metadata": {},
   "outputs": [
    {
     "name": "stderr",
     "output_type": "stream",
     "text": [
      "C:\\Users\\hp\\AppData\\Local\\Temp/ipykernel_16948/3032738024.py:3: SettingWithCopyWarning: \n",
      "A value is trying to be set on a copy of a slice from a DataFrame.\n",
      "Try using .loc[row_indexer,col_indexer] = value instead\n",
      "\n",
      "See the caveats in the documentation: https://pandas.pydata.org/pandas-docs/stable/user_guide/indexing.html#returning-a-view-versus-a-copy\n",
      "  exercise_events['DayOfWeek'] = exercise_events['Time'].dt.dayofweek\n"
     ]
    },
    {
     "data": {
      "image/png": "[encoded data removed]",
      "text/plain": [
       "<Figure size 864x432 with 1 Axes>"
      ]
     },
     "metadata": {
      "needs_background": "light"
     },
     "output_type": "display_data"
    }
   ],
   "source": [
    "if not exercise_events.empty:\n",
    "    # Extract day of the week (0=Monday, 6=Sunday)\n",
    "    exercise_events['DayOfWeek'] = exercise_events['Time'].dt.dayofweek\n",
    "\n",
    "    # Separate exercise events into two DataFrames: one for weekdays (Monday to Friday) and another for weekends (Saturday and Sunday)\n",
    "    weekday_activity = exercise_events[exercise_events['DayOfWeek'] < 5]\n",
    "    weekend_activity = exercise_events[exercise_events['DayOfWeek'] >= 5]\n",
    "\n",
    "    # Create bar charts to visualize weekday vs. weekend activity\n",
    "    plt.figure(figsize=(12, 6))\n",
    "\n",
    "    if not weekday_activity.empty:\n",
    "        plt.subplot(1, 2, 1)\n",
    "        weekday_activity_counts = weekday_activity['DayOfWeek'].value_counts().sort_index()\n",
    "        weekday_activity_counts.plot(kind='bar', color='skyblue')\n",
    "        plt.title('Weekday Activity')\n",
    "        plt.xlabel('Day of the Week')\n",
    "        plt.ylabel('Number of Exercise Events')\n",
    "        plt.xticks(range(5), ['Mon', 'Tue', 'Wed', 'Thu', 'Fri'], rotation=0)\n",
    "        plt.grid(axis='y')\n",
    "\n",
    "    if not weekend_activity.empty:\n",
    "        plt.subplot(1, 2, 2)\n",
    "        weekend_activity_counts = weekend_activity['DayOfWeek'].value_counts().sort_index()\n",
    "        weekend_activity_counts.plot(kind='bar', color='lightcoral')\n",
    "        plt.title('Weekend Activity')\n",
    "        plt.xlabel('Day of the Week')\n",
    "        plt.ylabel('Number of Exercise Events')\n",
    "        plt.xticks(range(2), ['Sat', 'Sun'], rotation=0)\n",
    "        plt.grid(axis='y')\n",
    "\n",
    "    plt.tight_layout()\n",
    "    plt.show()\n",
    "else:\n",
    "    print(\"No exercise events found in the log data.\")"
   ]
  },
  {
   "cell_type": "markdown",
   "id": "040da658",
   "metadata": {},
   "source": [
    "The Above graph is representing the number of events occured on weekdays and weekends\n",
    "<li>The weekend activity bar graph is clearly shows that the data is represent the weekend day</li>"
   ]
  },
  {
   "cell_type": "markdown",
   "id": "00b99141",
   "metadata": {},
   "source": [
    "## Anomaly Detection"
   ]
  },
  {
   "cell_type": "code",
   "execution_count": 99,
   "id": "be770000",
   "metadata": {},
   "outputs": [],
   "source": [
    "df['StepCount'] = exercise_events['Content'].str.extract(r'onStandStepChanged (\\d+)')[0].astype(float)\n",
    "df['totalAltitude'] = exercise_events['Content'].str.extract(r'totalAltitude=(\\d+)')[0].astype(float)\n",
    "df['totalCalories'] = exercise_events['Content'].str.extract(r'totalCalories=(\\d+)')[0].astype(float)\n",
    "# Calculate the Z-score for the 'StepCount' column\n",
    "mean_step_count = df['StepCount'].mean()\n",
    "std_step_count = df['StepCount'].std()\n",
    "z_scores = np.abs((df['StepCount'] - mean_step_count) / std_step_count)"
   ]
  },
  {
   "cell_type": "code",
   "execution_count": 100,
   "id": "c1320873",
   "metadata": {},
   "outputs": [],
   "source": [
    "# Set a threshold for anomaly detection\n",
    "threshold = 3  # Z-score threshold for anomalies\n",
    "\n",
    "# Find and mark anomalies\n",
    "anomalies = df[z_scores > threshold]\n",
    "df['IsAnomaly'] = False\n",
    "df.loc[anomalies.index, 'IsAnomaly'] = True"
   ]
  },
  {
   "cell_type": "code",
   "execution_count": 101,
   "id": "14462d7a",
   "metadata": {},
   "outputs": [
    {
     "data": {
      "image/png": "[encoded data removed]",
      "text/plain": [
       "<Figure size 864x432 with 1 Axes>"
      ]
     },
     "metadata": {
      "needs_background": "light"
     },
     "output_type": "display_data"
    }
   ],
   "source": [
    "plt.figure(figsize=(12, 6))\n",
    "plt.scatter(df['Time'], df['StepCount'], marker='o', s=10, alpha=0.5, c=df['IsAnomaly'], cmap='viridis')\n",
    "plt.title('Anomaly Detection for Step Counts')\n",
    "plt.xlabel('Time')\n",
    "plt.ylabel('Step Count')\n",
    "plt.grid(True)\n",
    "\n",
    "# Show the plot\n",
    "plt.tight_layout()\n",
    "plt.show()"
   ]
  },
  {
   "cell_type": "markdown",
   "id": "ec670bcf",
   "metadata": {},
   "source": [
    "## Analysis over content data"
   ]
  },
  {
   "cell_type": "code",
   "execution_count": 102,
   "id": "67fcf4c8",
   "metadata": {},
   "outputs": [
    {
     "name": "stderr",
     "output_type": "stream",
     "text": [
      "[nltk_data] Downloading package punkt to\n",
      "[nltk_data]     C:\\Users\\hp\\AppData\\Roaming\\nltk_data...\n",
      "[nltk_data]   Package punkt is already up-to-date!\n"
     ]
    }
   ],
   "source": [
    "text_data = df['Content']\n",
    "\n",
    "# Combine all text entries into a single string\n",
    "combined_text = ' '.join(text_data)\n",
    "\n",
    "# Tokenize the text using NLTK\n",
    "nltk.download('punkt')\n",
    "tokens = word_tokenize(combined_text)"
   ]
  },
  {
   "cell_type": "code",
   "execution_count": 103,
   "id": "eb95fe91",
   "metadata": {},
   "outputs": [
    {
     "name": "stderr",
     "output_type": "stream",
     "text": [
      "[nltk_data] Downloading package stopwords to\n",
      "[nltk_data]     C:\\Users\\hp\\AppData\\Roaming\\nltk_data...\n",
      "[nltk_data]   Package stopwords is already up-to-date!\n"
     ]
    }
   ],
   "source": [
    "nltk.download('stopwords')\n",
    "stop_words = set(stopwords.words('english'))\n",
    "filtered_tokens = [word for word in tokens if word.lower() not in stop_words]\n",
    "\n",
    "# Create a frequency distribution of words\n",
    "word_freq = Counter(filtered_tokens)"
   ]
  },
  {
   "cell_type": "code",
   "execution_count": 104,
   "id": "39f35795",
   "metadata": {},
   "outputs": [
    {
     "name": "stdout",
     "output_type": "stream",
     "text": [
      "Most Common Words:\n",
      "#: 4842\n",
      "0: 566\n",
      "8661: 483\n",
      "16256: 400\n",
      ":: 334\n",
      "=: 307\n",
      "onStandStepChanged: 260\n",
      "549659: 256\n",
      "getTodayTotalDetailSteps: 242\n",
      "calculateCaloriesWithCache: 241\n"
     ]
    }
   ],
   "source": [
    "most_common_words = word_freq.most_common(10)\n",
    "print(\"Most Common Words:\")\n",
    "for word, freq in most_common_words:\n",
    "    print(f\"{word}: {freq}\")"
   ]
  },
  {
   "cell_type": "code",
   "execution_count": 105,
   "id": "aa6a6725",
   "metadata": {},
   "outputs": [
    {
     "data": {
      "image/png": "[encoded data removed]",
      "text/plain": [
       "<Figure size 720x432 with 1 Axes>"
      ]
     },
     "metadata": {
      "needs_background": "light"
     },
     "output_type": "display_data"
    }
   ],
   "source": [
    "wordcloud = WordCloud(width=800, height=400, background_color='white').generate_from_frequencies(word_freq)\n",
    "\n",
    "# Display the word cloud\n",
    "plt.figure(figsize=(10, 6))\n",
    "plt.imshow(wordcloud, interpolation='bilinear')\n",
    "plt.title('Word Cloud for Text Analysis')\n",
    "plt.axis('off')\n",
    "plt.show()"
   ]
  },
  {
   "cell_type": "markdown",
   "id": "23976aa3",
   "metadata": {},
   "source": [
    "## Correlation matrix for df Dataframe"
   ]
  },
  {
   "cell_type": "code",
   "execution_count": 106,
   "id": "0fe1c07b",
   "metadata": {},
   "outputs": [
    {
     "data": {
      "image/png": "[encoded data removed]",
      "text/plain": [
       "<Figure size 576x432 with 2 Axes>"
      ]
     },
     "metadata": {
      "needs_background": "light"
     },
     "output_type": "display_data"
    }
   ],
   "source": [
    "correlation_matrix = df.corr()\n",
    "\n",
    "# Create a heatmap to visualize the correlation matrix\n",
    "plt.figure(figsize=(8, 6))\n",
    "sns.heatmap(correlation_matrix, annot=True)\n",
    "plt.title('Correlation Heatmap')\n",
    "plt.show()"
   ]
  },
  {
   "cell_type": "markdown",
   "id": "ff24257f",
   "metadata": {},
   "source": [
    "No above heatmap represent the relation between time, not representing any thing specific "
   ]
  },
  {
   "cell_type": "markdown",
   "id": "7f9c9e18",
   "metadata": {},
   "source": [
    "<h2>Results</h2>\n",
    "<li>Given data consists of two days stepchange</li>\n",
    "<li>Date of the following data set '2017-12-23' and '2017-12-24'</li>\n",
    "<li>on '2017-12-23' the user step changes count is 236 and on '2017-12-24'the user step changes count is 24</li>\n",
    "<p>For 2017-12-23 <p>\n",
    "<li>The user intensively changing its steps at '22', it almost 167 time the stepscount changed</li>\n",
    "<li>The user slows down the activity at '23', the total stepcount change are 69</li>\n",
    "<p>For 2017-12-23</p>\n",
    "<li>The total number of stepcount changed at Hour '0' is 24</li>\n",
    "<p>After overall analysis, the stepchange count is decreasing, which means the user is slowing down its walking count.</p>\n",
    "<li>The data set have 3 points of hours</li>\n",
    "<li>'22' and '23' represent the hours of date '2017-12-23'</li>\n",
    "<li>'0' represented the Hours of date '2017-12-24'</li>\n",
    "<li>At '22' the number of steps count is 3761.0</li>\n",
    "<li>At '23' the number of steps count is 3786.0</li>\n",
    "<li>At '0' the number of steps count is 3786.0</li>\n",
    "<li>As, we can see that the onStandStepChanged is triggered at value of '0' but the number of steps are not changed</li>\n",
    "<li>show the intensity of the E42 eventid is high in the beggining of the dataset till the 100 duration(in seconds)</li>\n",
    "<li>The number of Event on 2017-12-23 is 250+ </li>\n",
    "<li>The number of event on 2017-12-24 is around 30</li>\n",
    "<li>2017-12-23 has more number of event as compare to 2017-12-24</li>\n",
    "<li>EventId E39 (onExtend) have the highest occurance in the dataset, it is around 250+ times trigger in the dataset</li>\n",
    "<li>The EventId E22(getTodayTotalDetailSteps),E58(setTodayTotalDetailSteps),E3(calculateAltitudeWithCache totalAltitude),E4(calculateCaloriesWithCache totalCalories) have same number of occurance in the dataset</li>\n",
    "<li>E44 and E47 have the same number of occurance </li>\n",
    "<li>E12, E40,E41,E37 and E43 have occurance around 10 times</li>\n",
    "<li>Maximum calories of the dataset is 131208</li>\n",
    "<li>calculateAltitudeWithCache totalAltitude showing the high intensity at 22 and 23 which is equal to 240</li>\n",
    "<li>The weekend activity bar graph is clearly shows that the data is represent the weekend day which is on saturday and sunday</li>"
   ]
  }
 ],
 "metadata": {
  "kernelspec": {
   "display_name": "Python 3 (ipykernel)",
   "language": "python",
   "name": "python3"
  },
  "language_info": {
   "codemirror_mode": {
    "name": "ipython",
    "version": 3
   },
   "file_extension": ".py",
   "mimetype": "text/x-python",
   "name": "python",
   "nbconvert_exporter": "python",
   "pygments_lexer": "ipython3",
   "version": "3.9.7"
  }
 },
 "nbformat": 4,
 "nbformat_minor": 5
}
